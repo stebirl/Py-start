{
  "nbformat": 4,
  "nbformat_minor": 0,
  "metadata": {
    "colab": {
      "provenance": [],
      "toc_visible": true,
      "include_colab_link": true
    },
    "kernelspec": {
      "name": "python3",
      "display_name": "Python 3"
    },
    "language_info": {
      "name": "python"
    }
  },
  "cells": [
    {
      "cell_type": "markdown",
      "metadata": {
        "id": "view-in-github",
        "colab_type": "text"
      },
      "source": [
        "<a href=\"https://colab.research.google.com/github/stebirl/Py-start/blob/main/Tag_1_Python_basics2.ipynb\" target=\"_parent\"><img src=\"https://colab.research.google.com/assets/colab-badge.svg\" alt=\"Open In Colab\"/></a>"
      ]
    },
    {
      "cell_type": "markdown",
      "source": [
        "# 08-27-GS-2 - Einführung in die Datenverarbeitung und -visualisierung mit Python\n",
        "\n",
        "5-tägiger Blockkurs - Stella Birlo\n",
        "\n",
        "-------"
      ],
      "metadata": {
        "id": "BMD31WLhWaOv"
      }
    },
    {
      "cell_type": "markdown",
      "source": [
        "# Tag 1 - Python Basics\n",
        "\n",
        "* Dieser Kurs besteht aus 5 Tagen á 5 Notebooks mit Übungsaufgaben zu jedem Abschnitt.\n",
        "\n",
        "* (Fast) alle Inhalte dieses Kurses sind aus verschiedenen online Quellen zusammengetragen um Sie euch in einer sinnvollen Reihenfolge zu vermitteln. Alle verwendeten Links findet Ihr bei den jeweiligen Abschnitten und können genutzt werden, um sich mehr in die Thematiken zu vertiefen.\n",
        "\n",
        "* Manche Notebooks enthalten auch weitere Informationen die über den Inhalt des Tages hinausgehen.\n",
        "\n",
        "* Die Übungsaufgaben werden größtenteils vor Ort durchgearbeitet und besprochen. Einen kleinen Teil gibt es für zu Hause.\n"
      ],
      "metadata": {
        "id": "2mrhU1jYWMvf"
      }
    },
    {
      "cell_type": "markdown",
      "source": [
        "-----\n",
        "Empfehlungen um Python zu lernen:\n",
        "\n",
        "- https://www.learnpython.org/\n",
        "- https://docs.python.org/3/tutorial/\n",
        "- https://www.geeksforgeeks.org/python-programming-language/\n",
        "- https://www.youtube.com/watch?v=dyJdLalc7TA\n",
        "- https://www.youtube.com/watch?v=kqtD5dpn9C8\n",
        "- https://gitlab.com/iup-bremen/pdap"
      ],
      "metadata": {
        "id": "PmGh1rVgmZQH"
      }
    },
    {
      "cell_type": "markdown",
      "source": [
        "----------\n",
        "Willkommen zu Jupyter Notebooks! (Zugriff über Google Colab)\n",
        "\n",
        "Was kann Jupyter Notebook:\n",
        "* Es kombiniert Visualisierung, Text (Word-Alternative), Mathematische Gleichungen ($\\hat{Y} = \\hat{\\beta}_{0} + \\sum \\limits _{j=1} ^{p} X_{j}\\hat{\\beta}_{j} $) und andere Medien in einem Dokument\n",
        "* Vorteile sind, dass wir Zeile für Zeile arbeiten können und dass wir Dokumente einfach Teilen und reproduzieren können\n",
        "* Es gibt zahlreiche Hilfe-Funktionen (Farbliche Fehlermarkierung, Funktionsbeschreibungen, Vorschläge, Funktions-Vorlagen)\n",
        "* Colab bietet zudem z.B. Serverkapazität & Navigationsfenster (links)"
      ],
      "metadata": {
        "id": "Y3y36NtdINCt"
      }
    },
    {
      "cell_type": "markdown",
      "source": [
        "-----\n",
        "Wie wollt ihr arbeiten?\n",
        "Eure Optionen:\n",
        "* Arbeiten hier in Colab (Dafür: Datei > Kopie in Drive speichern)\n",
        "* Arbeiten über andere Software (Anaconda, Visual Studio Code, ...). Dafür Datei > Herunterladen > .ipynb herunterladen\n",
        "\n",
        ">> .ipynb-Datein sind **IPy**thon**N**ote**B**ook-Datein"
      ],
      "metadata": {
        "id": "AFsVTQI4JiBf"
      }
    },
    {
      "cell_type": "markdown",
      "source": [
        "----\n",
        "Einrichten:\n",
        "* In Colab:\n",
        "      Datei > Kopie im Drive speichern\n",
        "      Datei > Im Google Drive suchen\n",
        "* Erstellt euch einen Ordner (z.B.: \"Python_Kurs\") (Colab: im Drive, Lokal: auf euren Computern) mit folgenden Unterordnern:\n",
        "  - Notebooks\n",
        "  - Beispieldatensätze\n",
        "  - Plots\n",
        "\n",
        "* Speichert dieses und die anderen Notebooks im Ordner \"Notebooks\"\n",
        "* Speichert Beispieldatensätze unter \"Beispieldatensätze\"\n",
        "\n",
        "-----"
      ],
      "metadata": {
        "id": "r0bEVU0-dhfZ"
      }
    },
    {
      "cell_type": "markdown",
      "source": [
        "Let's start:\n",
        "\n",
        "Python ist eine Programmier-SPRACHE, d.h. wir werden einige neue Wörte lernen (z.B. strings, plots, floats, etc...) . Evtl. legt ihr euch ein \"Wörterbuch\" an?\n",
        "\n",
        "Die Funktionen basieren auf der englischen Sprache.\n",
        "\n",
        "-----"
      ],
      "metadata": {
        "id": "6yP_UuBCKPl4"
      }
    },
    {
      "cell_type": "markdown",
      "source": [
        "Das hier ist ein Textfeld (probiere Doppelklick hier), auch genannt \"Markdown cell\""
      ],
      "metadata": {
        "id": "nq5JtVMPWkAV"
      }
    },
    {
      "cell_type": "code",
      "execution_count": null,
      "metadata": {
        "id": "EFay4fryWUgm",
        "colab": {
          "base_uri": "https://localhost:8080/"
        },
        "outputId": "0bb7bed9-d412-4ff3-accc-1106c487352e"
      },
      "outputs": [
        {
          "output_type": "stream",
          "name": "stdout",
          "text": [
            "Hello world!\n"
          ]
        }
      ],
      "source": [
        "# Und das hier ist ein Feld für Code (Mit Hashtags können wir auch hier Text einfügen)\n",
        "print(\"Hello world!\") # das ist ein Befehl/input mit der Funktion print()\n",
        "# Das Ergebnis/Output wird unter der Zelle angezeigt\n",
        "# Ausgführung (run) folgt mit dem Pfeil links am Kastern oder Ctrl + Enter"
      ]
    },
    {
      "cell_type": "markdown",
      "source": [
        "Unter der Zelle finden wir unser **Ergebnis/Output**.\n",
        "Unser Befehl, oder auch **function** genannt, ist \"print\", den Inhalt des Befehls folgt in der Klammer. In diesem Fall haben wir einen sogenannten \"String\", also einen Text markiert in \"\" ausgeben lassen.\n",
        "\n"
      ],
      "metadata": {
        "id": "4dsHVXdYXDfG"
      }
    },
    {
      "cell_type": "markdown",
      "source": [
        "## 1.1. Python als Rechner\n",
        "Wir starten mit einfach Rechnungen in Python\n",
        "\n",
        "(Beispiele von: https://docs.python.org/3/tutorial/introduction.html#using-python-as-a-calculator)"
      ],
      "metadata": {
        "id": "55uKtI3eZlS_"
      }
    },
    {
      "cell_type": "code",
      "source": [
        "4*2"
      ],
      "metadata": {
        "id": "OkcGTrNCZsRr",
        "colab": {
          "base_uri": "https://localhost:8080/"
        },
        "outputId": "d55d1541-6c4f-47e3-dd00-0318aae07f20"
      },
      "execution_count": null,
      "outputs": [
        {
          "output_type": "execute_result",
          "data": {
            "text/plain": [
              "8"
            ]
          },
          "metadata": {},
          "execution_count": 3
        }
      ]
    },
    {
      "cell_type": "code",
      "source": [
        "\n",
        "a = 50 - 5*6\n",
        "print(a)\n",
        "print(type(a))"
      ],
      "metadata": {
        "id": "ta9A8xhNZsUX",
        "colab": {
          "base_uri": "https://localhost:8080/"
        },
        "outputId": "221ca574-a78c-46e1-f63e-77bc214c1e9f"
      },
      "execution_count": null,
      "outputs": [
        {
          "output_type": "stream",
          "name": "stdout",
          "text": [
            "20\n",
            "<class 'int'>\n"
          ]
        }
      ]
    },
    {
      "cell_type": "code",
      "source": [
        "b = (50-5*6)/4\n",
        "print(b)\n",
        "print(type(b))"
      ],
      "metadata": {
        "id": "SWZJGI3eZsXy",
        "colab": {
          "base_uri": "https://localhost:8080/"
        },
        "outputId": "b611bca5-acd6-42d3-f5e7-3b4ddd6f813e"
      },
      "execution_count": null,
      "outputs": [
        {
          "output_type": "stream",
          "name": "stdout",
          "text": [
            "5.0\n",
            "<class 'float'>\n"
          ]
        }
      ]
    },
    {
      "cell_type": "code",
      "source": [
        "8/2\n",
        "4/2   # es wird immer der letzte Befehl angezeigt,\n",
        "      # wenn nicht die print()-funktion verwednet wird"
      ],
      "metadata": {
        "id": "ZIwd3PxnZ1pi",
        "colab": {
          "base_uri": "https://localhost:8080/"
        },
        "outputId": "1545644e-f3a3-4192-d0bc-c3fe26411609"
      },
      "execution_count": null,
      "outputs": [
        {
          "output_type": "stream",
          "name": "stdout",
          "text": [
            "4.0\n"
          ]
        },
        {
          "output_type": "execute_result",
          "data": {
            "text/plain": [
              "2.0"
            ]
          },
          "metadata": {},
          "execution_count": 8
        }
      ]
    },
    {
      "cell_type": "code",
      "source": [
        "-4**2 # -4 hoch 2, Potenz"
      ],
      "metadata": {
        "id": "AZkrs09_Z1t_",
        "colab": {
          "base_uri": "https://localhost:8080/"
        },
        "outputId": "3f7d5e8c-c543-417c-da5a-24be8f8c54a3"
      },
      "execution_count": null,
      "outputs": [
        {
          "output_type": "execute_result",
          "data": {
            "text/plain": [
              "-16"
            ]
          },
          "metadata": {},
          "execution_count": 9
        }
      ]
    },
    {
      "cell_type": "code",
      "source": [
        "print(17/3)   # gibt float\n",
        "print(17//3)  # Ganzzahliger Anteil der Integer Division\n",
        "print(17%3)   # gibt den Rest bei ganzzahligen Teilen aus\n",
        "print(5*3+2)  # Bodenteilung * Divisor + Rest"
      ],
      "metadata": {
        "id": "pTVYky_7Z1wk",
        "colab": {
          "base_uri": "https://localhost:8080/"
        },
        "outputId": "7bafc628-82c6-49b3-c596-7d1ce603fd3c"
      },
      "execution_count": null,
      "outputs": [
        {
          "output_type": "stream",
          "name": "stdout",
          "text": [
            "5.666666666666667\n",
            "5\n",
            "2\n",
            "17\n"
          ]
        }
      ]
    },
    {
      "cell_type": "code",
      "source": [
        "#Wir können den Zahlen auch einen Namen geben:\n",
        "width = 20\n",
        "print(width)\n",
        "print(\"width:\",width)\n",
        "\n",
        "height = 5 * 9\n",
        "print(height)\n",
        "print(\"height:\",height)\n",
        "\n",
        "# oder\n",
        "width, height = 20, 5*9 # andere, schnellere Schreibweise\n",
        "print(width,height)"
      ],
      "metadata": {
        "id": "NhsNsHjmZ1zF",
        "colab": {
          "base_uri": "https://localhost:8080/"
        },
        "outputId": "0e64a3b4-439b-461c-d3c2-1bb898b2b31e"
      },
      "execution_count": null,
      "outputs": [
        {
          "output_type": "stream",
          "name": "stdout",
          "text": [
            "20\n",
            "width: 20\n",
            "45\n",
            "height: 45\n",
            "20 45\n"
          ]
        }
      ]
    },
    {
      "cell_type": "code",
      "source": [
        "# wir können sogar damit rechnen:\n",
        "width * height"
      ],
      "metadata": {
        "id": "EKPuM94_cj5q",
        "colab": {
          "base_uri": "https://localhost:8080/"
        },
        "outputId": "afae2904-43c7-41b9-a53b-fa8db0132dd3"
      },
      "execution_count": null,
      "outputs": [
        {
          "output_type": "execute_result",
          "data": {
            "text/plain": [
              "900"
            ]
          },
          "metadata": {},
          "execution_count": 13
        }
      ]
    },
    {
      "cell_type": "code",
      "source": [
        "# Man kann die Variablen auch überschreiben:\n",
        "print(width)\n",
        "width = 25\n",
        "print(width)"
      ],
      "metadata": {
        "id": "vmOl5kEC49_u",
        "colab": {
          "base_uri": "https://localhost:8080/"
        },
        "outputId": "64d532c4-884b-490a-d07a-01d0761c491c"
      },
      "execution_count": null,
      "outputs": [
        {
          "output_type": "stream",
          "name": "stdout",
          "text": [
            "25\n",
            "25\n"
          ]
        }
      ]
    },
    {
      "cell_type": "code",
      "source": [
        "# Auch Rechnungen können einen Namen erhalten:\n",
        "area = width * height\n",
        "area"
      ],
      "metadata": {
        "id": "5c0E8oqpdKIE",
        "colab": {
          "base_uri": "https://localhost:8080/"
        },
        "outputId": "bf057020-378f-48cf-e392-3c6251157f05"
      },
      "execution_count": null,
      "outputs": [
        {
          "output_type": "execute_result",
          "data": {
            "text/plain": [
              "1125"
            ]
          },
          "metadata": {},
          "execution_count": 19
        }
      ]
    },
    {
      "cell_type": "code",
      "source": [
        "# Aber was ist, wenn wir uns verschreiben?\n",
        "arae\n",
        "\n",
        "# Lerne den Unterschied: Es gibt Error-Meldungen und Warnings"
      ],
      "metadata": {
        "id": "g1XD1-7XZ11a",
        "colab": {
          "base_uri": "https://localhost:8080/",
          "height": 234
        },
        "outputId": "d3d332ec-c02d-471b-fbf2-c99d63169220"
      },
      "execution_count": null,
      "outputs": [
        {
          "output_type": "error",
          "ename": "NameError",
          "evalue": "name 'arae' is not defined",
          "traceback": [
            "\u001b[0;31m---------------------------------------------------------------------------\u001b[0m",
            "\u001b[0;31mNameError\u001b[0m                                 Traceback (most recent call last)",
            "\u001b[0;32m<ipython-input-20-61562cf1a925>\u001b[0m in \u001b[0;36m<cell line: 2>\u001b[0;34m()\u001b[0m\n\u001b[1;32m      1\u001b[0m \u001b[0;31m# Aber was ist, wenn wir uns verschreiben?\u001b[0m\u001b[0;34m\u001b[0m\u001b[0;34m\u001b[0m\u001b[0m\n\u001b[0;32m----> 2\u001b[0;31m \u001b[0marae\u001b[0m\u001b[0;34m\u001b[0m\u001b[0;34m\u001b[0m\u001b[0m\n\u001b[0m\u001b[1;32m      3\u001b[0m \u001b[0;34m\u001b[0m\u001b[0m\n\u001b[1;32m      4\u001b[0m \u001b[0;31m# Lerne den Unterschied: Es gibt Error-Meldungen und Warnings\u001b[0m\u001b[0;34m\u001b[0m\u001b[0;34m\u001b[0m\u001b[0m\n",
            "\u001b[0;31mNameError\u001b[0m: name 'arae' is not defined"
          ]
        }
      ]
    },
    {
      "cell_type": "code",
      "source": [
        "# Wir können Ints in Floats umwandeln und andersrum\n",
        "print(area, type(area)) # type() gibt uns den Datentypen/Klasse eines Elements\n",
        "print(\"Als float:\",float(area),type(float(area))) # mit float() können wir die Klasse eines Elements in float umwandeln\n",
        "\n",
        "# Das geht auch andersrum\n",
        "x = 55.5\n",
        "print(x, type(x))\n",
        "print(\"Als int:\",int(x),type(int(x)))\n",
        "\n",
        "# Ints schneidet ab, anders als Runden\n",
        "print(\"Als gerundete Zahl:\",round(x,0),type(round(x,0)))"
      ],
      "metadata": {
        "id": "_kYcj9kmF611",
        "colab": {
          "base_uri": "https://localhost:8080/"
        },
        "outputId": "555da38b-5784-4e60-8dc1-7421ff21449d"
      },
      "execution_count": null,
      "outputs": [
        {
          "output_type": "stream",
          "name": "stdout",
          "text": [
            "1125 <class 'int'>\n",
            "Als float: 1125.0 <class 'float'>\n",
            "55.5 <class 'float'>\n",
            "Als int: 55 <class 'int'>\n",
            "Als gerundete Zahl: 56.0 <class 'float'>\n"
          ]
        }
      ]
    },
    {
      "cell_type": "markdown",
      "source": [
        "### Zusammenfassung\n",
        "* Mit print() können wir uns Sachen ausgeben lassen\n",
        "- Mathmatische Werkzeuge, Python als Taschenrechner\n",
        "- Unterschied zwischen Integer (Int) und Floats (float), Umwandlung\n",
        "- Variablen Namen geben und damit arbeiten\n",
        "- Fehlermeldungen tauchen immer auf, wenn man sich vertippt"
      ],
      "metadata": {
        "id": "gDHAUg81rUPt"
      }
    },
    {
      "cell_type": "markdown",
      "source": [
        "### Übung 1.1."
      ],
      "metadata": {
        "id": "vgrNlylBm3vX"
      }
    },
    {
      "cell_type": "markdown",
      "source": [
        "1. Erstelle ein Feld für Text und ein Feld für Code und schreibe in beide etwas hinein."
      ],
      "metadata": {
        "id": "JZs-SXNUn8jK"
      }
    },
    {
      "cell_type": "markdown",
      "source": [
        "2. Einfache Berechnungen:\n",
        "Berechne die Summe, Differenz, Produkt und Quotient von zwei eingegebenen Zahlen (Variablen) und gib diese über print() aus.\n",
        "\n",
        "  Hinweis: Die Summe ist die Addition, die Differenz ist die Subtraktion, das Produkt ist die Multiplikation und der Quotient ist die Division."
      ],
      "metadata": {
        "id": "3NLmNCk0n_yk"
      }
    },
    {
      "cell_type": "markdown",
      "source": [
        "3. Potenzrechnung:\n",
        "Schreibe eine Funktion, die die Potenz zweier Zahlen berechnet, wobei die Basis und der Exponent als Variablen eingegeben werden.\n",
        "\n",
        "  Hinweis: a^b bedeutet, dass man die Basis a mit sich selbst b Mal multipliziert.\n"
      ],
      "metadata": {
        "id": "dL4n-R5soFsc"
      }
    },
    {
      "cell_type": "markdown",
      "source": [
        "4. Umwandlung von Temperaturen:\n",
        "Schreibe ein Programm, das die Temperatur von Celsius in Fahrenheit umwandelt. Der Benutzer sollte die Temperatur in Celsius eingeben, und das Programm sollte die entsprechende Temperatur in Fahrenheit ausgeben.\n",
        "\n",
        "  Hinweis: Die Formel für die Umrechnung lautet F=9/5⋅C+32\n",
        "  "
      ],
      "metadata": {
        "id": "BTEhRXycn_vF"
      }
    },
    {
      "cell_type": "markdown",
      "source": [
        "5. Berechnung des Durchschnitts:\n",
        "Schreibe ein Programm, das den Durchschnitt von drei eingegebenen Zahlen berechnet und ausgibt. Lasse das Ergebnis als Float und als Integer ausgeben.\n",
        "\n",
        "  Hinweis: Der Durchschnitt wird berechnet, indem man die Summe der Zahlen durch die Anzahl der Zahlen teilt."
      ],
      "metadata": {
        "id": "LCOgdentoLcK"
      }
    },
    {
      "cell_type": "markdown",
      "source": [
        "## 1.2 Python Text\n",
        "Wir können mit Python auch Text manipulieren.\n",
        "Texte sind sogenannte \"strings\" (kurz **str**).\n",
        "Auch Zahlen können als string ausgegeben werden.\n",
        "Alles, was sich innerhalb von \"...\" oder '...' befindet, ist ein string."
      ],
      "metadata": {
        "id": "-Gz6Po19d-U0"
      }
    },
    {
      "cell_type": "code",
      "source": [
        "print(\"Hallo\")\n",
        "print(\"1999\")"
      ],
      "metadata": {
        "id": "mJX2mu9LtiDK",
        "colab": {
          "base_uri": "https://localhost:8080/"
        },
        "outputId": "763cf358-9d82-4557-bc49-7456b05ff686"
      },
      "execution_count": null,
      "outputs": [
        {
          "output_type": "stream",
          "name": "stdout",
          "text": [
            "Hallo\n",
            "1999\n"
          ]
        }
      ]
    },
    {
      "cell_type": "code",
      "source": [
        "# von str auf int\n",
        "\n",
        "x = \"1999\"\n",
        "print(x, type(x))\n",
        "\n",
        "y = int(x)\n",
        "z = float(x)\n",
        "print(y, type(y))\n",
        "print(z, type(z))"
      ],
      "metadata": {
        "id": "SHMRbGtGX-og",
        "colab": {
          "base_uri": "https://localhost:8080/"
        },
        "outputId": "a9152ce4-5139-4e6d-d251-6cb2bdc89c50"
      },
      "execution_count": null,
      "outputs": [
        {
          "output_type": "stream",
          "name": "stdout",
          "text": [
            "1999 <class 'str'>\n",
            "1999 <class 'int'>\n",
            "1999.0 <class 'float'>\n"
          ]
        }
      ]
    },
    {
      "cell_type": "code",
      "source": [
        "# \" und ' kombinieren\n",
        "print(\"doesn't\" )\n",
        "#print('\"Yes,\" they said.')\n",
        "#print(\"\\\"Yes,\\\" they said.\")\n",
        "#print('\"Isn\\'t,\" they said.')"
      ],
      "metadata": {
        "id": "imlofM_auIdY",
        "colab": {
          "base_uri": "https://localhost:8080/"
        },
        "outputId": "67076df3-206c-4914-bb81-4172b43711ce"
      },
      "execution_count": null,
      "outputs": [
        {
          "output_type": "stream",
          "name": "stdout",
          "text": [
            "doesn't\n",
            "\"Yes,\" they said.\n"
          ]
        }
      ]
    },
    {
      "cell_type": "code",
      "source": [
        "# Benutze \\n um einen Absatz einzufügen\n",
        "s = 'First line.\\nSecond line.'\n",
        "print(s)\n",
        "# ist ander als\n",
        "s"
      ],
      "metadata": {
        "id": "CVfSOLqOua5S",
        "colab": {
          "base_uri": "https://localhost:8080/",
          "height": 71
        },
        "outputId": "be715b03-dab8-492a-a420-a7f88d6ee52a"
      },
      "execution_count": null,
      "outputs": [
        {
          "output_type": "stream",
          "name": "stdout",
          "text": [
            "First line.\n",
            "Second line.\n"
          ]
        },
        {
          "output_type": "execute_result",
          "data": {
            "text/plain": [
              "'First line.\\nSecond line.'"
            ],
            "application/vnd.google.colaboratory.intrinsic+json": {
              "type": "string"
            }
          },
          "metadata": {},
          "execution_count": 31
        }
      ]
    },
    {
      "cell_type": "code",
      "source": [
        "# \\n kann auch in URLs oder working directories vorkommen\n",
        "print('C:\\some\\name')\n",
        "print(r'C:\\some\\name') # ein r am Anfang löst das Problem"
      ],
      "metadata": {
        "id": "7VxDSFLxux2W",
        "colab": {
          "base_uri": "https://localhost:8080/"
        },
        "outputId": "4386a4f5-cd06-4fba-998f-063001d18b76"
      },
      "execution_count": null,
      "outputs": [
        {
          "output_type": "stream",
          "name": "stdout",
          "text": [
            "C:\\some\n",
            "ame\n",
            "C:\\some\\name\n"
          ]
        }
      ]
    },
    {
      "cell_type": "code",
      "source": [
        "# Man kann auf Strings auch Rechenzeichen anwenden\n",
        "3 * 'un' + 'ium'"
      ],
      "metadata": {
        "id": "7-OwdiaHuil7",
        "colab": {
          "base_uri": "https://localhost:8080/",
          "height": 35
        },
        "outputId": "f490f5b5-adee-4494-f4f4-af901814dd4d"
      },
      "execution_count": null,
      "outputs": [
        {
          "output_type": "execute_result",
          "data": {
            "text/plain": [
              "'unununium'"
            ],
            "application/vnd.google.colaboratory.intrinsic+json": {
              "type": "string"
            }
          },
          "metadata": {},
          "execution_count": 35
        }
      ]
    },
    {
      "cell_type": "code",
      "source": [
        "\"ba\" + 10 * \"na\""
      ],
      "metadata": {
        "id": "5zYBAqY6vSx3",
        "colab": {
          "base_uri": "https://localhost:8080/",
          "height": 35
        },
        "outputId": "9af7355f-705f-44b6-c661-240ec4fa4c3b"
      },
      "execution_count": null,
      "outputs": [
        {
          "output_type": "execute_result",
          "data": {
            "text/plain": [
              "'banananananananananana'"
            ],
            "application/vnd.google.colaboratory.intrinsic+json": {
              "type": "string"
            }
          },
          "metadata": {},
          "execution_count": 36
        }
      ]
    },
    {
      "cell_type": "code",
      "source": [
        "# zwei strings nebeneinander werden automatisch zusammengefügt\n",
        "'Py' 'thon'"
      ],
      "metadata": {
        "id": "s86VCrmKvZ01",
        "colab": {
          "base_uri": "https://localhost:8080/",
          "height": 35
        },
        "outputId": "b947ed19-875f-4c1f-dfa4-7980d7a66c1f"
      },
      "execution_count": null,
      "outputs": [
        {
          "output_type": "execute_result",
          "data": {
            "text/plain": [
              "'Python'"
            ],
            "application/vnd.google.colaboratory.intrinsic+json": {
              "type": "string"
            }
          },
          "metadata": {},
          "execution_count": 37
        }
      ]
    },
    {
      "cell_type": "code",
      "source": [
        "prefix = \"Py\"\n",
        "prefix + \"thon\""
      ],
      "metadata": {
        "id": "6-GWFHuJvq5Z",
        "colab": {
          "base_uri": "https://localhost:8080/",
          "height": 35
        },
        "outputId": "8e8ab880-d347-4e2a-8e94-2f60d3e889e4"
      },
      "execution_count": null,
      "outputs": [
        {
          "output_type": "execute_result",
          "data": {
            "text/plain": [
              "'Python'"
            ],
            "application/vnd.google.colaboratory.intrinsic+json": {
              "type": "string"
            }
          },
          "metadata": {},
          "execution_count": 38
        }
      ]
    },
    {
      "cell_type": "code",
      "source": [
        "# Wir können auch nur bestimmte Teile eines Wortes ausgeben lassen, Stichwort: INDEXING (wichtig)\n",
        "# Index ist die gezählte Position und wir innerhalb von [...] angegeben\n",
        "word = 'Python'\n",
        "word[0]  # Python beginnt bei Null an zu zählen (wird am Anfang oft vergessen)"
      ],
      "metadata": {
        "id": "ifqBNYMhv0j2",
        "colab": {
          "base_uri": "https://localhost:8080/",
          "height": 35
        },
        "outputId": "082031aa-7d9d-4b3c-940c-97649fbccbee"
      },
      "execution_count": null,
      "outputs": [
        {
          "output_type": "execute_result",
          "data": {
            "text/plain": [
              "'P'"
            ],
            "application/vnd.google.colaboratory.intrinsic+json": {
              "type": "string"
            }
          },
          "metadata": {},
          "execution_count": 39
        }
      ]
    },
    {
      "cell_type": "code",
      "source": [
        "word[1]"
      ],
      "metadata": {
        "id": "NVMMm_gcwIjU",
        "colab": {
          "base_uri": "https://localhost:8080/",
          "height": 35
        },
        "outputId": "a24210f5-3138-4e9b-ce64-3f36e7614064"
      },
      "execution_count": null,
      "outputs": [
        {
          "output_type": "execute_result",
          "data": {
            "text/plain": [
              "'y'"
            ],
            "application/vnd.google.colaboratory.intrinsic+json": {
              "type": "string"
            }
          },
          "metadata": {},
          "execution_count": 40
        }
      ]
    },
    {
      "cell_type": "code",
      "source": [
        "# Man kann auch von hinten zählen\n",
        "print(word[-1])\n",
        "print(word[-2])"
      ],
      "metadata": {
        "id": "wyYB0hkgwQU9",
        "colab": {
          "base_uri": "https://localhost:8080/"
        },
        "outputId": "da99d463-11ac-417e-f623-1d57a08c1840"
      },
      "execution_count": null,
      "outputs": [
        {
          "output_type": "stream",
          "name": "stdout",
          "text": [
            "n\n",
            "o\n"
          ]
        }
      ]
    },
    {
      "cell_type": "code",
      "source": [
        "# Man kann auch bestimmte Teile herrausschneiden, Stichwort: SLICING\n",
        "print(word[0:2])\n",
        "print(word[2:5])\n",
        "print(word[1:5])"
      ],
      "metadata": {
        "id": "XfFjM2vPwoBL",
        "colab": {
          "base_uri": "https://localhost:8080/"
        },
        "outputId": "2c11198a-16b2-43df-92ff-962b527e06ea"
      },
      "execution_count": null,
      "outputs": [
        {
          "output_type": "stream",
          "name": "stdout",
          "text": [
            "Py\n",
            "tho\n",
            "ytho\n"
          ]
        }
      ]
    },
    {
      "cell_type": "code",
      "source": [
        "print(word[:2])\n",
        "print(word[2:])\n",
        "print(word[-2:])"
      ],
      "metadata": {
        "id": "mAlE3VWTxCS4",
        "colab": {
          "base_uri": "https://localhost:8080/"
        },
        "outputId": "961ca4b4-93ef-4e0c-8c4c-dbe7e68be71f"
      },
      "execution_count": null,
      "outputs": [
        {
          "output_type": "stream",
          "name": "stdout",
          "text": [
            "Py\n",
            "thon\n",
            "on\n"
          ]
        }
      ]
    },
    {
      "cell_type": "code",
      "source": [
        " # Don't run! Nur für Darstellungszwecke so angezeigt\n",
        "\n",
        " +---+---+---+---+---+---+\n",
        " | P | y | t | h | o | n |\n",
        " +---+---+---+---+---+---+\n",
        " 0   1   2   3   4   5   6\n",
        "-6  -5  -4  -3  -2  -1"
      ],
      "metadata": {
        "id": "H5dfE11AxLmd",
        "colab": {
          "base_uri": "https://localhost:8080/",
          "height": 144
        },
        "outputId": "876eab04-fc4a-442d-e9fd-3f5f4ad1e3c7"
      },
      "execution_count": null,
      "outputs": [
        {
          "output_type": "error",
          "ename": "SyntaxError",
          "evalue": "invalid syntax (<ipython-input-44-82d9d9d7b5c7>, line 3)",
          "traceback": [
            "\u001b[0;36m  File \u001b[0;32m\"<ipython-input-44-82d9d9d7b5c7>\"\u001b[0;36m, line \u001b[0;32m3\u001b[0m\n\u001b[0;31m    +---+---+---+---+---+---+\u001b[0m\n\u001b[0m                             ^\u001b[0m\n\u001b[0;31mSyntaxError\u001b[0m\u001b[0;31m:\u001b[0m invalid syntax\n"
          ]
        }
      ]
    },
    {
      "cell_type": "code",
      "source": [
        "# Das Wort hat nur einen maximalen index von 6\n",
        "word[42]"
      ],
      "metadata": {
        "id": "9iarnQuTyITq",
        "colab": {
          "base_uri": "https://localhost:8080/",
          "height": 198
        },
        "outputId": "70cbb93d-69e9-45b8-f2c3-4723c13bb4d8"
      },
      "execution_count": null,
      "outputs": [
        {
          "output_type": "error",
          "ename": "IndexError",
          "evalue": "string index out of range",
          "traceback": [
            "\u001b[0;31m---------------------------------------------------------------------------\u001b[0m",
            "\u001b[0;31mIndexError\u001b[0m                                Traceback (most recent call last)",
            "\u001b[0;32m<ipython-input-45-b5ec1e8929ea>\u001b[0m in \u001b[0;36m<cell line: 2>\u001b[0;34m()\u001b[0m\n\u001b[1;32m      1\u001b[0m \u001b[0;31m# Das Wort hat nur einen maximalen index von 6\u001b[0m\u001b[0;34m\u001b[0m\u001b[0;34m\u001b[0m\u001b[0m\n\u001b[0;32m----> 2\u001b[0;31m \u001b[0mword\u001b[0m\u001b[0;34m[\u001b[0m\u001b[0;36m42\u001b[0m\u001b[0;34m]\u001b[0m\u001b[0;34m\u001b[0m\u001b[0;34m\u001b[0m\u001b[0m\n\u001b[0m",
            "\u001b[0;31mIndexError\u001b[0m: string index out of range"
          ]
        }
      ]
    },
    {
      "cell_type": "code",
      "source": [
        "# Ok ist aber:\n",
        "print(word[4:42])\n",
        "print(word[42:])"
      ],
      "metadata": {
        "id": "GRRueBWD8mBi",
        "colab": {
          "base_uri": "https://localhost:8080/"
        },
        "outputId": "3936eeb6-ab1a-40ec-95a2-091cbe964794"
      },
      "execution_count": null,
      "outputs": [
        {
          "output_type": "stream",
          "name": "stdout",
          "text": [
            "on\n",
            "\n"
          ]
        }
      ]
    },
    {
      "cell_type": "code",
      "source": [
        "# Wie finden wir die maximale Anzahl eines Wortes heraus?\n",
        "s = 'supercalifragilisticexpialidocious'\n",
        "print(len(s)) # len() = length\n",
        "print(s[-34:])"
      ],
      "metadata": {
        "id": "N9BnBSk5yWrd",
        "colab": {
          "base_uri": "https://localhost:8080/"
        },
        "outputId": "e9ef0e10-3579-4215-ce6f-21cc97731491"
      },
      "execution_count": null,
      "outputs": [
        {
          "output_type": "stream",
          "name": "stdout",
          "text": [
            "34\n",
            "supercalifragilisticexpialidocious\n"
          ]
        }
      ]
    },
    {
      "cell_type": "code",
      "source": [
        "# Man kann Text noch weiter manipulieren:\n",
        "Txt = \"Hallo, Python!\"\n",
        "print(Txt.upper())\n",
        "print(Txt.lower())\n",
        "#print(Txt[::-1])\n",
        "#print(Txt[::2])\n",
        "#print(Txt.split())\n",
        "#print(Txt.replace(\"Python\",\"Welt\"))"
      ],
      "metadata": {
        "id": "1cOp9_h7z2EN",
        "colab": {
          "base_uri": "https://localhost:8080/"
        },
        "outputId": "40376744-00aa-486d-cf74-95ace8c4b5b2"
      },
      "execution_count": null,
      "outputs": [
        {
          "output_type": "stream",
          "name": "stdout",
          "text": [
            "HALLO, PYTHON!\n",
            "hallo, python!\n"
          ]
        }
      ]
    },
    {
      "cell_type": "markdown",
      "source": [
        "### Zusammenfassung\n",
        "* Strings sind Objekte, Wörter, Sätze, Zahlen, etc. innerhalb von \"...\" oder '...'\n",
        "* Man kann Strings z.B. multiplizieren\n",
        "* \\n kann einen Absatz einfügen\n",
        "* Man kann Strings indexen oder slicen\n",
        "* In der Python Sprache fängt man bei 0 an zu zählen, das ist anders in anderen Programmiersprachen"
      ],
      "metadata": {
        "id": "XdFeZ08qd-XR"
      }
    },
    {
      "cell_type": "markdown",
      "source": [
        "### Übung 1.2."
      ],
      "metadata": {
        "id": "YryUESZ5A73P"
      }
    },
    {
      "cell_type": "markdown",
      "source": [
        "1. Erstelle einen String mit dem Inhalt \"Python ist mächtig\". Gib die ersten 6 Zeichen aus, dann die Zeichen von Index 7 bis 12 und schließlich die letzten 5 Zeichen."
      ],
      "metadata": {
        "id": "Gi8gkdeWp1pk"
      }
    },
    {
      "cell_type": "markdown",
      "source": [
        "2. Wie lang ist das Wort \"Donaudampfschiffahrtsgesellschaftskapitän\"?\n",
        "Lasse die letzen 7 Buchstaben auf zwei unterschiedliche Wege anzeigen."
      ],
      "metadata": {
        "id": "NTvbyl6Ep1me"
      }
    },
    {
      "cell_type": "markdown",
      "source": [
        "3. Erstelle zwei Strings, einen mit deinem Vornamen und einen mit deinem Nachnamen. Verkette die beiden Strings und gib das Ergebnis aus."
      ],
      "metadata": {
        "id": "qQm_C-i2p1i-"
      }
    },
    {
      "cell_type": "markdown",
      "source": [
        "4. Gegeben seien die Strings zahl1 = \"5\" und zahl2 = \"7\". Führe eine Addition der beiden Strings durch (behandle sie als Zahlen) und gib das Ergebnis aus."
      ],
      "metadata": {
        "id": "gjblSkBVp1fb"
      }
    },
    {
      "cell_type": "markdown",
      "source": [
        "## 1.3 Listen\n",
        "Listen sind eines der gängingsten Datentypen in Python.\n",
        "Eine Liste (list) ist eine Reihe von Komma-seperierten Werten in eckigen Klammern. Listen enthalten meist Objelte des selben Typs."
      ],
      "metadata": {
        "id": "dUeyGcBTm2m4"
      }
    },
    {
      "cell_type": "code",
      "source": [
        "squares = [1, 4, 9, 16, 25]\n",
        "squares"
      ],
      "metadata": {
        "id": "JwDmU1I8Z17g",
        "colab": {
          "base_uri": "https://localhost:8080/"
        },
        "outputId": "564dc47d-8c1f-4720-82f7-a071747111de"
      },
      "execution_count": null,
      "outputs": [
        {
          "output_type": "execute_result",
          "data": {
            "text/plain": [
              "[1, 4, 9, 16, 25]"
            ]
          },
          "metadata": {},
          "execution_count": 49
        }
      ]
    },
    {
      "cell_type": "code",
      "source": [
        "# Auch Listen kann man wie Strings \"indexen\" oder \"slicen\"\n",
        "print(squares[0])\n",
        "print([squares[-1]])\n",
        "print(squares[-3:])"
      ],
      "metadata": {
        "id": "OavRT8oQZ0rn",
        "colab": {
          "base_uri": "https://localhost:8080/"
        },
        "outputId": "608facea-7f7e-4134-bbae-3de618078835"
      },
      "execution_count": null,
      "outputs": [
        {
          "output_type": "stream",
          "name": "stdout",
          "text": [
            "1\n",
            "[25]\n",
            "[9, 16, 25]\n"
          ]
        }
      ]
    },
    {
      "cell_type": "code",
      "source": [
        "# Auch Listen kann man manipulieren\n",
        "print(squares + [36, 49, 64, 81, 100])\n",
        "print(list(reversed(squares))) # hier müssen wir das mit dem \"reversed()\"-Befehl auch zusätzlich eine Liste erstellen\n",
        "print(*squares) # * Gibt nur die Zahlen aus"
      ],
      "metadata": {
        "id": "ydF87qHE-JGo",
        "colab": {
          "base_uri": "https://localhost:8080/"
        },
        "outputId": "147e7e74-3418-40cd-cd3d-29818fcdcb1d"
      },
      "execution_count": null,
      "outputs": [
        {
          "output_type": "stream",
          "name": "stdout",
          "text": [
            "[1, 4, 9, 16, 25, 36, 49, 64, 81, 100]\n",
            "[25, 16, 9, 4, 1]\n",
            "1 4 9 16 25\n"
          ]
        }
      ]
    },
    {
      "cell_type": "code",
      "source": [
        "# Im Gegensatz zu Strings können wir Werte aus Listen durch indexen ändern\n",
        "cubes = [1, 8, 27, 65, 125]\n",
        "cubes[3] = 64\n",
        "cubes"
      ],
      "metadata": {
        "id": "d9exvfuV-Ugk",
        "colab": {
          "base_uri": "https://localhost:8080/"
        },
        "outputId": "18be00dc-f0da-44c2-c886-02af23427a38"
      },
      "execution_count": null,
      "outputs": [
        {
          "output_type": "execute_result",
          "data": {
            "text/plain": [
              "[1, 8, 27, 64, 125]"
            ]
          },
          "metadata": {},
          "execution_count": 52
        }
      ]
    },
    {
      "cell_type": "code",
      "source": [
        "# Wir können hinzufügen\n",
        "cubes.append(216) # .append() ist eine wichtige und oft genutzte Funktion\n",
        "cubes.append(7**3)\n",
        "cubes"
      ],
      "metadata": {
        "id": "HfwD5SP6-qNq",
        "colab": {
          "base_uri": "https://localhost:8080/"
        },
        "outputId": "7818ad38-a130-413c-8117-8505617a011b"
      },
      "execution_count": null,
      "outputs": [
        {
          "output_type": "execute_result",
          "data": {
            "text/plain": [
              "[1, 8, 27, 64, 125, 216, 343]"
            ]
          },
          "metadata": {},
          "execution_count": 53
        }
      ]
    },
    {
      "cell_type": "code",
      "source": [
        "# Man kann auch hier die Befehle, die wir bei Strings kennengelernt haben, anwenden\n",
        "len(cubes) # len() ist eine sogenannte build-in function, für die müssen wir kein Paket laden"
      ],
      "metadata": {
        "id": "J8aYaP5g_AmT",
        "colab": {
          "base_uri": "https://localhost:8080/"
        },
        "outputId": "6b35fddb-d32c-4630-f7cf-09baea6118ed"
      },
      "execution_count": null,
      "outputs": [
        {
          "output_type": "execute_result",
          "data": {
            "text/plain": [
              "7"
            ]
          },
          "metadata": {},
          "execution_count": 54
        }
      ]
    },
    {
      "cell_type": "code",
      "source": [
        "# Weitere Befehle:\n",
        "\n",
        "letters = ['a', 'b', 'c', 'd', 'e', 'f', 'g']\n",
        "print(letters)\n",
        "#letters[2:5] = ['C', 'D', 'E'] # Ersetzen\n",
        "#print(letters)\n",
        "#letters[2:5] = [] # Löschen\n",
        "#print(letters)\n",
        "#letters[:] = [] # Alles löschen\n",
        "#print(letters)"
      ],
      "metadata": {
        "id": "F8zTCyjP_MsI",
        "colab": {
          "base_uri": "https://localhost:8080/"
        },
        "outputId": "33aefe48-fa20-411a-c5a9-8c38c8a12068"
      },
      "execution_count": null,
      "outputs": [
        {
          "output_type": "stream",
          "name": "stdout",
          "text": [
            "['a', 'b', 'c', 'd', 'e', 'f', 'g']\n"
          ]
        }
      ]
    },
    {
      "cell_type": "code",
      "source": [
        "# Splitten\n",
        "a = \"Hello, egg world!\"\n",
        "\n",
        "b=a.split()\n",
        "c = b[::2] # jedes zweite\n",
        "\n",
        "print(b)\n",
        "print(b[0]+b[2])\n",
        "print(c)"
      ],
      "metadata": {
        "id": "wqdP79Vt30oD",
        "colab": {
          "base_uri": "https://localhost:8080/"
        },
        "outputId": "392f3104-bb53-45fd-de5a-e4a8bb9dcde3"
      },
      "execution_count": null,
      "outputs": [
        {
          "output_type": "stream",
          "name": "stdout",
          "text": [
            "['Hello,', 'egg', 'world!']\n",
            "Hello,world!\n",
            "['Hello,', 'world!']\n"
          ]
        }
      ]
    },
    {
      "cell_type": "code",
      "source": [
        "# Join\n",
        "a = 'Hello, world egg!'\n",
        "# splittet bei \"egg\"\n",
        "d = a.split('egg')\n",
        "print(d)\n",
        "# Alle Strings einer Liste verschmelzen\n",
        "s =''.join(d)\n",
        "s"
      ],
      "metadata": {
        "id": "-ihSFLYK4ICH",
        "colab": {
          "base_uri": "https://localhost:8080/",
          "height": 53
        },
        "outputId": "303210fb-d12d-49bf-fd93-f84ede69f45c"
      },
      "execution_count": null,
      "outputs": [
        {
          "output_type": "stream",
          "name": "stdout",
          "text": [
            "['Hello, world ', '!']\n"
          ]
        },
        {
          "output_type": "execute_result",
          "data": {
            "text/plain": [
              "'Hello, world !'"
            ],
            "application/vnd.google.colaboratory.intrinsic+json": {
              "type": "string"
            }
          },
          "metadata": {},
          "execution_count": 57
        }
      ]
    },
    {
      "cell_type": "code",
      "source": [
        "# Man kann auch Listen zu einem Nest zusammenführen:\n",
        "a = ['a', 'b', 'c']\n",
        "n = [1, 2, 3]\n",
        "x = [a, n]\n",
        "x"
      ],
      "metadata": {
        "id": "WPQcD9_m_vTl",
        "colab": {
          "base_uri": "https://localhost:8080/"
        },
        "outputId": "f9d427dd-9d1f-4350-d13b-0a0b8d1c2a87"
      },
      "execution_count": null,
      "outputs": [
        {
          "output_type": "execute_result",
          "data": {
            "text/plain": [
              "[['a', 'b', 'c'], [1, 2, 3]]"
            ]
          },
          "metadata": {},
          "execution_count": 58
        }
      ]
    },
    {
      "cell_type": "code",
      "source": [
        "print(x[0])\n",
        "print(x[0][1])"
      ],
      "metadata": {
        "id": "swbOd0eBAImA",
        "colab": {
          "base_uri": "https://localhost:8080/"
        },
        "outputId": "16507e57-9e6c-4d01-a818-842543ee572e"
      },
      "execution_count": null,
      "outputs": [
        {
          "output_type": "stream",
          "name": "stdout",
          "text": [
            "['a', 'b', 'c']\n",
            "b\n"
          ]
        }
      ]
    },
    {
      "cell_type": "code",
      "source": [
        "L = [1,2,3,4,5]\n",
        "F = L+list(reversed(L))\n",
        "F"
      ],
      "metadata": {
        "id": "DvqrKSlCA2s8"
      },
      "execution_count": null,
      "outputs": []
    },
    {
      "cell_type": "code",
      "source": [
        "# Für Faule:\n",
        "r = range(1,10) # von 1 bis 10\n",
        "x = list(r) # oder [*r]\n",
        "print(x)\n",
        "\n",
        "f = range(1,10,2) # von 1 bis 10 in 2er Schritten\n",
        "y = [*f] # oder list(f)\n",
        "print(y)"
      ],
      "metadata": {
        "id": "7LQMq9ZEijsu",
        "colab": {
          "base_uri": "https://localhost:8080/"
        },
        "outputId": "e02bff99-7343-41a5-815e-3e77eab37bbe"
      },
      "execution_count": null,
      "outputs": [
        {
          "output_type": "stream",
          "name": "stdout",
          "text": [
            "[1, 2, 3, 4, 5, 6, 7, 8, 9]\n",
            "[1, 3, 5, 7, 9]\n"
          ]
        }
      ]
    },
    {
      "cell_type": "code",
      "source": [
        "# weitere Funktionen für Typ \"Lists\"\n",
        "\n",
        "meine_liste = [1, 2, 3, 4, 5]\n",
        "\n",
        "meine_liste.append(6)               #.append(), Wert anhängen\n",
        "print(\"1. \",meine_liste)\n",
        "\n",
        "andere_liste = [7, 8, 9]\n",
        "meine_liste.extend(andere_liste)    #.extend(), andere Liste anhängen\n",
        "print(\"2. \",meine_liste)\n",
        "\n",
        "meine_liste.insert(2, 10)           #.insert(), füge 10 an der Position 2 ein\n",
        "print(\"3. \",meine_liste)\n",
        "\n",
        "meine_liste.remove(5)               #.remove(), das 5te Element löschen\n",
        "print(\"4. \",meine_liste)\n"
      ],
      "metadata": {
        "id": "6LASy5VbsM8g",
        "colab": {
          "base_uri": "https://localhost:8080/"
        },
        "outputId": "aac29907-b4d9-483e-e789-cce8c9d0e655"
      },
      "execution_count": null,
      "outputs": [
        {
          "output_type": "stream",
          "name": "stdout",
          "text": [
            "1.  [1, 2, 3, 4, 5, 6]\n",
            "2.  [1, 2, 3, 4, 5, 6, 7, 8, 9]\n",
            "3.  [1, 2, 10, 3, 4, 5, 6, 7, 8, 9]\n",
            "4.  [1, 2, 10, 3, 4, 6, 7, 8, 9]\n"
          ]
        }
      ]
    },
    {
      "cell_type": "code",
      "source": [
        "# weitere Funktionen für Typ \"Lists\"\n",
        "\n",
        "entnommenes_element = meine_liste.pop(2)  # .pop(), entnimmt Element vom Index 2\n",
        "print(\"5. \",entnommenes_element)\n",
        "print(\"6. \",meine_liste)\n",
        "\n",
        "index_von_4 = meine_liste.index(4)  #.index(), gibt die index nummer für eine Zahl raus\n",
        "print(\"7. \",index_von_4)\n",
        "\n",
        "anzahl_von_6 = meine_liste.count(6) # .count(), (anders als \"len()\")\n",
        "print(\"8. \",anzahl_von_6)"
      ],
      "metadata": {
        "colab": {
          "base_uri": "https://localhost:8080/"
        },
        "id": "hgsVpZOL7B2q",
        "outputId": "d221b5b4-8718-4a07-c211-5357ee1a2fd7"
      },
      "execution_count": null,
      "outputs": [
        {
          "output_type": "stream",
          "name": "stdout",
          "text": [
            "5.  10\n",
            "6.  [1, 2, 3, 4, 6, 7, 8, 9]\n",
            "7.  3\n",
            "8.  1\n"
          ]
        }
      ]
    },
    {
      "cell_type": "code",
      "source": [
        "meine_liste.reverse()               # .reverse(), dreht um\n",
        "print(\"9. \",meine_liste)\n",
        "\n",
        "meine_liste.sort()                  #.sort(), sortiert Zahlen\n",
        "print(\"10. \",meine_liste)\n",
        "\n",
        "kopierte_liste = meine_liste.copy() #.copy(), wichtig, um nicht ungewollt zu überschreiben\n",
        "print(\"11. \",kopierte_liste)"
      ],
      "metadata": {
        "colab": {
          "base_uri": "https://localhost:8080/"
        },
        "id": "BlPP92-X7Mk7",
        "outputId": "b18607ab-043d-4c46-bfea-7263a11f9cb8"
      },
      "execution_count": null,
      "outputs": [
        {
          "output_type": "stream",
          "name": "stdout",
          "text": [
            "9.  [9, 8, 7, 6, 4, 10, 2, 1]\n",
            "10.  [1, 2, 4, 6, 7, 8, 9, 10]\n",
            "11.  [1, 2, 4, 6, 7, 8, 9, 10]\n"
          ]
        }
      ]
    },
    {
      "cell_type": "markdown",
      "source": [
        "### Zusammenfassung\n",
        "* Listen sind eine Komma-seperierte Aneinanderreihung von Zahlen, Strings, oder anderes\n",
        "* Listen lassen sich auch indexen und slicen\n",
        "* Man kann Listen manipulieren\n",
        "* .append() ist eine wichtige Funktion um Elemente an eine Liste anzuhängen"
      ],
      "metadata": {
        "id": "yRZFdi0sAmcm"
      }
    },
    {
      "cell_type": "markdown",
      "source": [
        "### Übung 1.3."
      ],
      "metadata": {
        "id": "__k37IS-BHiT"
      }
    },
    {
      "cell_type": "markdown",
      "source": [
        "1. Erstelle eine Liste mit den Namen von drei verschiedenen Tieren. Füge dann ein weiteres Tier am Ende der Liste hinzu. Gib schließlich die gesamte Liste aus."
      ],
      "metadata": {
        "id": "4zdRebWfqPjy"
      }
    },
    {
      "cell_type": "markdown",
      "source": [
        "2. Gegeben sei die Liste farben = [\"Rot\", \"Grün\", \"Blau\", \"Gelb\", \"Violett\"]. Gib \"Blau\" aud der Liste aus und anschließend die Elemente von Index 1 bis 3."
      ],
      "metadata": {
        "id": "eXk-bPKSqPg4"
      }
    },
    {
      "cell_type": "markdown",
      "source": [
        "3. Gegeben sei die Liste zahlen = [1, 2, 3, 4, 5]. Kehre die Reihenfolge der Elemente in der Liste um und gib die umgekehrte Liste aus."
      ],
      "metadata": {
        "id": "8_cXQ9G3qPd4"
      }
    },
    {
      "cell_type": "markdown",
      "source": [
        "4. Gegeben sei der String text = \"Hallo, Python!\". Wandele diesen String in eine Liste um, in der jedes Zeichen ein Element der Liste ist. Gib die Liste aus."
      ],
      "metadata": {
        "id": "lCtx2IuTqPad"
      }
    }
  ]
}
