{
 "cells": [
  {
   "cell_type": "markdown",
   "metadata": {
    "id": "11gyuAw83laJ"
   },
   "source": [
    "# 08-27-GS-2 - Einführung in die Datenverarbeitung und -visualisierung mit Python\n",
    "\n",
    "5-tägiger Blockkurs - Stella Birlo\n",
    "\n",
    "-------"
   ]
  },
  {
   "cell_type": "markdown",
   "metadata": {
    "id": "RqPcAUnQ3-L_"
   },
   "source": [
    "# Abschlussprüfung\n",
    "\n",
    "Die folgenden Aufgaben greifen alle Aspekte des Kurses auf. Jeder Studierende wird seinen eigenen Datensatz finden und bearbeiten, es sollen sich keine Datensätze doppeln. Es soll ein neues Notebook erstellt werden, das sauber aufgebaut ist und mit sinnvollen Überschriften (z.B: Aufgabe 1, 2,...) das Dokument untergliedert und leserlich macht.\n",
    "\n",
    "Bei der Bewertung werden folgende Punkte beachtet:\n",
    "\n",
    "  * Darstellung der Ergebnisse\n",
    "  * klare Strukturierung\n",
    "  * gute Kommentierung der Codeabschnitte\n",
    "  * Verwendung von mindestens einer for-Schleife und einer if-Abfrage (egal bei welcher Aufgabe)\n",
    "  * Vollständigkeit der Darstellungen (Achsenbeschriftung, Legende, ...)\n",
    "\n",
    "----\n"
   ]
  },
  {
   "cell_type": "markdown",
   "metadata": {
    "id": "poseOp1VJTY_"
   },
   "source": [
    "\n",
    "## Zusätzliche Hinweise\n",
    "\n",
    "  - Hinweis 1: Du kannst alle notwendigen Bibliotheken (z.B. Pandas, Matplotlib) verwenden.\n",
    "\n",
    "  - Hinweis 2: Kommentiere deinen Lösungsweg (evtl. verwendete Funktionen, verwendete key-arguments, etc.) mit Hastags für jeden Codeabschnitt oder hinter den Zeilen.\n",
    "\n",
    "  - Hinweis 3: Ihr dürft für die Lösung alle Hilfsmittel verwenden (z.B: euch gegenseitig helfen oder ChatGPT), trotzdem sollte jede Person einen eigenen Datensatz behandeln und die einzelenen Schritte erklären können (kommentieren durch Hastags im Code)\n",
    "\n",
    "  - **Hinweis 4: Die Logik hinter allen Ergebnissen ist nicht so wichtig wie das Schreiben, Beschriften und Funktionalität der Codes**\n",
    "----"
   ]
  },
  {
   "cell_type": "markdown",
   "metadata": {
    "id": "Ov_YfReFJN6J"
   },
   "source": [
    "## Abgabe\n",
    "\n",
    "Die Abgabe des Skriptes soll als PDF erfolgen und bei StudIP auf der Veranstaltungsseite hochgeladen werden.\n",
    "- **Abgabe bis spätestens: 25.02.24**\n",
    "Das PDF soll alle in- und outputs enthalten, um das Ergebnis nachvollziehen zu können. Ich möchte keinen Datensatz runterladen müssen.\n",
    "Wie die Abspeicherung als PDF erfolgt wird am Ende dieses Skriptes erklärt.\n",
    "\n",
    "----"
   ]
  },
  {
   "cell_type": "markdown",
   "metadata": {
    "id": "aUHPyEqeUcvS"
   },
   "source": [
    "\n",
    "## Aufgaben\n",
    "\n",
    "* Aufgabe 1: Datensatz-Auswahl\n",
    "\n",
    "  - 1.1. Recherchiere und wähle einen öffentlich verfügbaren, wissenschaftlichen Datensatz aus, der für dein Studium (oder Interesse) relevant ist.\n",
    "\n",
    "  - 1.2. Beschreibe kurz den gewählten Datensatz, inklusive der Art der Daten, Bedeutung und Herkunft und eine mögliche Fragestellung, die durch die Daten beantwortet werden könnte oder warum dieser Datensatz relevant für dein Fach ist.\n",
    "\n",
    "\n",
    "* Aufgabe 2: Datensatz einladen und erkunden\n",
    "\n",
    "  - 2.1. Erstelle ein neues Notebook und nenne es \"Python_Kurs_deinNachname_Vorname.ipynb\"\n",
    "\n",
    "  - 2.1. Lade den ausgewählten Datensatz in ein Pandas DataFrame.\n",
    "\n",
    "  - 2.2. Untersuche den Datensatz, um ein Verständnis für die Struktur, die Datentypen (,NaNs, etc.) zu bekommen.\n",
    "\n",
    "\n",
    "* Aufgabe 3: Datenbereinigung und Transformation\n",
    "\n",
    "  - 3.1. Überprüfe die Daten auf fehlende Werte und handle entsprechend.\n",
    "\n",
    "  - 3.2. Entferne irrelevante Spalten oder Zeilen, die für deine Analyse nicht relevant sind.\n",
    "\n",
    "  - 3.3. Transformiere die Daten nach Bedarf. Zum Beispiel, konvertiere Datumsangaben in ein geeignetes Format, ändere Einheiten oder aggregiere Daten, wenn nötig. (Zeige hier, dass du es kannst, auch wenn nicht nötig für weitere Analysen)\n",
    "\n",
    "* Aufgabe 4: Berechnungen und Statistik\n",
    "\n",
    "   - 4.1. Formuliere drei Fragen, die du an die Daten hast und versuche diese durch Indexing & Slicing, statistische Berechnungen oder ähnliches zu beantworten. Führe dabei mindesten zwei statistische Berechnungen für den ganzen Datensatz durch, wie z.B. Durchschnitt, Median, Standardabweichung, Korrelation usw.\n",
    "\n",
    "\n",
    "* Aufgabe 5: Datenvisualisierung\n",
    "\n",
    "  - 5.1. Erstelle mindestens drei verschiedene Arten von Diagrammen/Plots, um unterschiedliche Aspekte deines Datensatzes zu visualisieren (z.B. Histogramme, Scatter Plots, Zeitreihen, interaktiver Plot, Korrelationsmatrix etc.). Eins dieser Plots sollte ein Liniendiagramm sein, das zwei Datenstränhe visualisuert (zwei Linien, nicht eine)\n",
    "\n",
    "  - 5.2. Stelle sicher, dass alle Diagramme gut beschriftet sind und die Schlüsselpunkte hervorgehoben werden.\n",
    "\n",
    "  - 5.3. Verweise mit Pfeil und Text auf einen bestimmte Punkt in einem deiner Plots\n",
    "\n",
    "  - 5.4. Packe alle drei Diagramme als Subplots in ein Figure\n",
    "\n",
    "  - 5.3. Formuliere ein paar Sätze um zu erklären, was man in den drei Abbildungen sieht.\n"
   ]
  },
  {
   "cell_type": "markdown",
   "metadata": {
    "id": "-LsGVi8r-J2_"
   },
   "source": [
    "## Abspeichern als PDF\n",
    "## im Colab:\n",
    "Als PDF abspeichern, schaut dieses Video an:\n",
    "https://www.youtube.com/watch?v=-Ti9Mm21uVc"
   ]
  },
  {
   "cell_type": "markdown",
   "metadata": {
    "id": "Et3oYQAk_Dpf"
   },
   "source": [
    "### Methode I: .htlm -> .pdf"
   ]
  },
  {
   "cell_type": "markdown",
   "metadata": {
    "id": "YLv3b-S1C4uo"
   },
   "source": [
    "Verbindet Drive"
   ]
  },
  {
   "cell_type": "code",
   "execution_count": 1,
   "metadata": {
    "colab": {
     "base_uri": "https://localhost:8080/"
    },
    "executionInfo": {
     "elapsed": 19183,
     "status": "ok",
     "timestamp": 1707466877178,
     "user": {
      "displayName": "stella birlo",
      "userId": "06628011514173869516"
     },
     "user_tz": -60
    },
    "id": "FxT8RYlJ-jai",
    "outputId": "45a90bad-ffbe-4432-8c31-9d4da2352775"
   },
   "outputs": [
    {
     "name": "stdout",
     "output_type": "stream",
     "text": [
      "Mounted at /content/drive\n"
     ]
    }
   ],
   "source": [
    "from google.colab import drive\n",
    "drive.mount('/content/drive')"
   ]
  },
  {
   "cell_type": "markdown",
   "metadata": {
    "id": "dvxc3um9C82K"
   },
   "source": [
    "- Ladet das Notebook als .ipynb herunter\n",
    "- Zieht die Datei unter \"content\"\n",
    "- Kopiert den Pfad unf fügt ihn in folgende Zeile ein:"
   ]
  },
  {
   "cell_type": "code",
   "execution_count": null,
   "metadata": {
    "colab": {
     "base_uri": "https://localhost:8080/"
    },
    "executionInfo": {
     "elapsed": 1856,
     "status": "ok",
     "timestamp": 1707466892535,
     "user": {
      "displayName": "stella birlo",
      "userId": "06628011514173869516"
     },
     "user_tz": -60
    },
    "id": "4s6WUqVMUSqV",
    "outputId": "c725093f-0649-4a4c-ada7-b2127db38f29"
   },
   "outputs": [],
   "source": [
    "!jupyter nbconvert --to html /content/Python_Abschluss.ipynb"
   ]
  },
  {
   "cell_type": "markdown",
   "metadata": {
    "id": "PLKwhmH-DWlo"
   },
   "source": [
    "- Ladet das neue .html-File herunter und öffnet es.\n",
    "- Speichert die neu geöffnete Seite als .pdf ab (Ctrl + p, oder Drucken > als PDF abspeichern)"
   ]
  },
  {
   "cell_type": "markdown",
   "metadata": {
    "id": "WbTCOJfXFZIF"
   },
   "source": [
    "### Methode 2 - LateX Style"
   ]
  },
  {
   "cell_type": "markdown",
   "metadata": {
    "id": "9LXjzBc1Fbln"
   },
   "source": [
    "Folgender Code braucht ca. 1 Minute, danach kann die zweite Zeile genutzt werden (path anpassen)."
   ]
  },
  {
   "cell_type": "code",
   "execution_count": null,
   "metadata": {
    "colab": {
     "base_uri": "https://localhost:8080/"
    },
    "executionInfo": {
     "elapsed": 73902,
     "status": "ok",
     "timestamp": 1702637356908,
     "user": {
      "displayName": "Stella Birlo",
      "userId": "13170914673044042646"
     },
     "user_tz": -60
    },
    "id": "OnmC5uvFCGHi",
    "outputId": "d4e2327c-e47d-4c20-e573-b5a25569e462"
   },
   "outputs": [],
   "source": [
    "!sudo apt-get install texlive-xetex texlive-fonts-recommended texlive-plain-generic"
   ]
  },
  {
   "cell_type": "code",
   "execution_count": null,
   "metadata": {},
   "outputs": [],
   "source": [
    "!jupyter nbconvert --to pdf /content/Python_Abschluss.ipynb"
   ]
  },
  {
   "cell_type": "markdown",
   "metadata": {},
   "source": [
    "## in JupyterLab"
   ]
  },
  {
   "cell_type": "markdown",
   "metadata": {},
   "source": [
    "Funktioniert leider nicht über File > Save and Export Notebook as > PDF\n",
    "\n",
    "Fehlermeldung: \"nbconvert failed: Pandoc wasn't found.\n",
    "Please check that pandoc is installed:\n",
    "https://pandoc.org/installing.html\"\n",
    "\n",
    "Lösung evtl pandoc zu installieren. Allerdings hat das auch nicht funktioniert. Proiert es trotzem gerne aus. Alternative weiter unten."
   ]
  },
  {
   "cell_type": "code",
   "execution_count": 4,
   "metadata": {},
   "outputs": [
    {
     "name": "stdout",
     "output_type": "stream",
     "text": [
      "Collecting pandoc\n",
      "  Downloading pandoc-2.3.tar.gz (33 kB)\n",
      "  Preparing metadata (setup.py): started\n",
      "  Preparing metadata (setup.py): finished with status 'done'\n",
      "Collecting plumbum (from pandoc)\n",
      "  Obtaining dependency information for plumbum from https://files.pythonhosted.org/packages/6f/e8/a9a580d1d67825d8bdc16f3993ea58c4066769d5f8ba34caaa69a5344b39/plumbum-1.8.2-py3-none-any.whl.metadata\n",
      "  Downloading plumbum-1.8.2-py3-none-any.whl.metadata (10 kB)\n",
      "Requirement already satisfied: ply in c:\\users\\hallo\\anaconda\\lib\\site-packages (from pandoc) (3.11)\n",
      "Requirement already satisfied: pywin32 in c:\\users\\hallo\\anaconda\\lib\\site-packages (from plumbum->pandoc) (305.1)\n",
      "Downloading plumbum-1.8.2-py3-none-any.whl (127 kB)\n",
      "   ---------------------------------------- 0.0/127.0 kB ? eta -:--:--\n",
      "   ----------------------------------- ---- 112.6/127.0 kB 3.3 MB/s eta 0:00:01\n",
      "   ---------------------------------------- 127.0/127.0 kB 2.5 MB/s eta 0:00:00\n",
      "Building wheels for collected packages: pandoc\n",
      "  Building wheel for pandoc (setup.py): started\n",
      "  Building wheel for pandoc (setup.py): finished with status 'done'\n",
      "  Created wheel for pandoc: filename=pandoc-2.3-py3-none-any.whl size=33290 sha256=dd2d19145e4e20b33b2281bc6c27bbba79d6dfa583ab2dfe8ead057f9893cdde\n",
      "  Stored in directory: c:\\users\\hallo\\appdata\\local\\pip\\cache\\wheels\\1c\\a9\\c4\\6254542c4e8202d52fcd69798d2507aaad1f2a4bb60f2f0fea\n",
      "Successfully built pandoc\n",
      "Installing collected packages: plumbum, pandoc\n",
      "Successfully installed pandoc-2.3 plumbum-1.8.2\n",
      "Note: you may need to restart the kernel to use updated packages.\n"
     ]
    }
   ],
   "source": [
    "pip install pandoc"
   ]
  },
  {
   "cell_type": "markdown",
   "metadata": {},
   "source": [
    "## Alternative\n",
    "\n",
    "->>  File > Save and Export Notebook as > HTML\n",
    "\n",
    "- Neue Datei .html im Download Ordner\n",
    "- Diese Datei öffnen\n",
    "- Diese Seite über \"Drucken > Als PDF drucken\" oder als \"als PDF abspeichern\" "
   ]
  },
  {
   "cell_type": "code",
   "execution_count": null,
   "metadata": {},
   "outputs": [],
   "source": []
  }
 ],
 "metadata": {
  "colab": {
   "provenance": [
    {
     "file_id": "1otC1YR4KSA6BO34mwIbiSEq58xFXUbM4",
     "timestamp": 1702635585978
    }
   ]
  },
  "kernelspec": {
   "display_name": "Python 3 (ipykernel)",
   "language": "python",
   "name": "python3"
  },
  "language_info": {
   "codemirror_mode": {
    "name": "ipython",
    "version": 3
   },
   "file_extension": ".py",
   "mimetype": "text/x-python",
   "name": "python",
   "nbconvert_exporter": "python",
   "pygments_lexer": "ipython3",
   "version": "3.11.5"
  }
 },
 "nbformat": 4,
 "nbformat_minor": 4
}
