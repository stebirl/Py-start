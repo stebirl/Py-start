{
  "nbformat": 4,
  "nbformat_minor": 0,
  "metadata": {
    "colab": {
      "provenance": [],
      "include_colab_link": true
    },
    "kernelspec": {
      "name": "python3",
      "display_name": "Python 3"
    },
    "language_info": {
      "name": "python"
    }
  },
  "cells": [
    {
      "cell_type": "markdown",
      "metadata": {
        "id": "view-in-github",
        "colab_type": "text"
      },
      "source": [
        "<a href=\"https://colab.research.google.com/github/stebirl/Py-start/blob/main/Tag_4_Datenvisualisierung.ipynb\" target=\"_parent\"><img src=\"https://colab.research.google.com/assets/colab-badge.svg\" alt=\"Open In Colab\"/></a>"
      ]
    },
    {
      "cell_type": "markdown",
      "source": [
        "# 08-27-GS-2 - Einführung in die Datenverarbeitung und -visualisierung mit Python\n",
        "\n",
        "5-tägiger Blockkurs - Stella Birlo\n",
        "\n",
        "-------"
      ],
      "metadata": {
        "id": "VLoVfN5f1E9X"
      }
    },
    {
      "cell_type": "markdown",
      "source": [
        "# Tag 4 - Datenvisualisierung"
      ],
      "metadata": {
        "id": "kyRYfe7Ld7ly"
      }
    },
    {
      "cell_type": "markdown",
      "source": [
        "Matplotlib ist eine leistungsstarke und weit verbreitete Python-Bibliothek für die Erstellung von statistischen Grafiken, Diagrammen und Plots. Sie wurde entwickelt, um eine ähnliche Syntax wie MATLAB zu haben und bietet eine flexible Möglichkeit, Daten visuell darzustellen. Hier sind einige Schlüsselkonzepte und Funktionen von Matplotlib:\n",
        "\n",
        "  * Figure und Axes: Das grundlegende Gerüst von Matplotlib ist die Figur (Figure). Innerhalb einer Figur können mehrere Achsen (Axes) existieren. Die Achsen repräsentieren die tatsächlichen Plots, Diagramme oder Grafiken.\n",
        "\n",
        "  * Plots erstellen: Matplotlib ermöglicht das Erstellen verschiedener Arten von Plots, einschließlich Liniendiagrammen, Balkendiagrammen, Streudiagrammen, Histogrammen und mehr. Die plot()-Funktion wird oft für einfache Linienplots verwendet.\n",
        "  \n",
        "  * Anpassung von Plots: Matplotlib bietet umfangreiche Möglichkeiten zur Anpassung von Plots, einschließlich der Änderung von Farben, Linienstilen, Hinzufügen von Achsentiteln, Legenden und vielem mehr.\n",
        "\n",
        "  * Subplots: Mit Matplotlib können Sie mehrere Plots in einer Figur anordnen. Dies ist besonders nützlich, wenn Sie mehrere Grafiken vergleichen möchten.\n",
        "  \n",
        "  * Diagrammtypen: Neben den grundlegenden Plots unterstützt Matplotlib eine Vielzahl von Diagrammtypen, einschließlich 3D-Plots, Balkendiagrammen, Histogrammen, Boxplots und vielem mehr.\n",
        "\n",
        "  * Integration mit NumPy: Matplotlib ist gut mit NumPy, einer leistungsstarken Bibliothek für numerische Berechnungen in Python, integriert. Dies ermöglicht eine einfache Verarbeitung von Datenarrays.\n",
        "\n",
        "Matplotlib ist eine zentrale Komponente im Ökosystem der Datenwissenschaft und wird oft in Kombination mit anderen Bibliotheken wie NumPy, Pandas und Seaborn verwendet, um Daten zu analysieren und zu visualisieren. Es bietet eine hohe Flexibilität und ist sowohl für Anfänger als auch für fortgeschrittene Benutzer geeignet.\n",
        "\n",
        "Ein umfangreiches Tutorial findet ihr hier: https://matplotlib.org/stable/tutorials/pyplot.html\n"
      ],
      "metadata": {
        "id": "oFum8NrliN17"
      }
    },
    {
      "cell_type": "markdown",
      "source": [
        "## 4.1. - Einfaches Plotten und Style-Formatierung"
      ],
      "metadata": {
        "id": "9tk_lHegkw2a"
      }
    },
    {
      "cell_type": "code",
      "source": [
        "pip install matplotlib"
      ],
      "metadata": {
        "id": "YHlfxv5Llr9L"
      },
      "execution_count": null,
      "outputs": []
    },
    {
      "cell_type": "code",
      "source": [
        "import matplotlib.pyplot as plt"
      ],
      "metadata": {
        "id": "2z02GcErAZmX"
      },
      "execution_count": null,
      "outputs": []
    },
    {
      "cell_type": "code",
      "source": [
        "%matplotlib inline\n",
        "## Manchmal nötig weil nicht angezeigt"
      ],
      "metadata": {
        "id": "h_DhD6RpAPeG"
      },
      "execution_count": null,
      "outputs": []
    },
    {
      "cell_type": "code",
      "source": [
        "fig= plt.figure()\n",
        "ax = plt.axes()"
      ],
      "metadata": {
        "id": "NUEMUayUAWNR"
      },
      "execution_count": null,
      "outputs": []
    },
    {
      "cell_type": "markdown",
      "source": [
        "### Linienplot"
      ],
      "metadata": {
        "id": "okukbwCv7Rae"
      }
    },
    {
      "cell_type": "code",
      "execution_count": null,
      "metadata": {
        "id": "3DGZDAJ5jxxl"
      },
      "outputs": [],
      "source": [
        "import matplotlib.pyplot as plt\n",
        "\n",
        "x = [1, 2, 3, 4, 5]\n",
        "y = [2, 4, 7, 14, 10]\n",
        "\n",
        "plt.plot(x, y)\n",
        "plt.show()"
      ]
    },
    {
      "cell_type": "code",
      "source": [
        "# Linienstyle ändern\n",
        "\n",
        "plt.plot(x, y, color = \"red\", marker=\"o\", linestyle = \"dashed\")\n",
        "#plt.plot(x, y, color = \"r\", marker=\"o\", linestyle = \"--\")\n",
        "#plt.plot(x, y, \"ro--\")   # format string - fmt\n",
        "\n"
      ],
      "metadata": {
        "id": "tf_mgZshkp88"
      },
      "execution_count": null,
      "outputs": []
    },
    {
      "cell_type": "code",
      "source": [
        "# Plot vervollständingen:\n",
        "\n",
        "plt.plot(x, y, \"k*:\", markersize= 12, linewidth = 2)\n",
        "plt.title(\"Some Values\")\n",
        "plt.xlabel(\"some x values\")\n",
        "plt.ylabel(\"some y values\")\n",
        "plt.grid()\n",
        "plt.axis((0,6,-2,16))     # (x-links, x-rechts, y-unten, y-oben)"
      ],
      "metadata": {
        "id": "zSrHoSpJkp6B"
      },
      "execution_count": null,
      "outputs": []
    },
    {
      "cell_type": "code",
      "source": [
        "# Mehrere Daten in einem Plot\n",
        "\n",
        "x2 = x\n",
        "y2 = [200,126,517,508,904]\n",
        "\n",
        "plt.plot(x, y, \"k*:\", markersize= 12, linewidth = 2)\n",
        "plt.plot(x, y2, \"o-g\")\n",
        "\n",
        "plt.title(\"Some Values\")\n",
        "plt.xlabel(\"some x values\")\n",
        "plt.ylabel(\"some y values\")\n",
        "#plt.axis((0,6,-2,16))"
      ],
      "metadata": {
        "id": "OVmrGnrSsoWq"
      },
      "execution_count": null,
      "outputs": []
    },
    {
      "cell_type": "code",
      "source": [
        "# Mehrere Daten in einem Plot\n",
        "## Zweite y-Achse hinzufügen\n",
        "\n",
        "x2 = x\n",
        "y2 = [200,126,517,508,904]\n",
        "\n",
        "\n",
        "plt.plot(x, y, \"k*:\", markersize= 12, linewidth = 2)\n",
        "plt.title(\"Some Values\")\n",
        "plt.xlabel(\"some x values\")\n",
        "plt.ylabel(\"some y values\")\n",
        "\n",
        "#ab hier die zweite y-Achse\n",
        "y_axis2 = plt.twinx()\n",
        "plt.plot(x, y2, \"o-g\")\n",
        "plt.yticks(color=\"g\")\n",
        "plt.ylabel(\"some other y's\",color=\"g\")\n",
        "\n",
        "#plt.axis((0,6,-2,16))"
      ],
      "metadata": {
        "id": "10nIrntmDPPy"
      },
      "execution_count": null,
      "outputs": []
    },
    {
      "cell_type": "markdown",
      "source": [
        "### Subplots"
      ],
      "metadata": {
        "id": "w6jFR_fl7VAN"
      }
    },
    {
      "cell_type": "code",
      "source": [
        "# Mehrere Daten in einem Plot\n",
        "## Legende\n",
        "\n",
        "x2 = x\n",
        "y2 = [200,126,517,508,904]\n",
        "\n",
        "\n",
        "plt.subplot(2, 1, 1)  # 2 Zeilen, 1 Spalte, erster Plot\n",
        "plt.plot(x, y, \"k*:\", markersize= 12, linewidth = 2,label = \"Erste Daten\")\n",
        "plt.title(\"Some title\")\n",
        "plt.xlabel(\"some x values\")\n",
        "plt.ylabel(\"some y values\")\n",
        "plt.legend()  # platziert automatisch\n",
        "\n",
        "plt.subplot(2, 1, 2)  # 2 Zeilen, 1 Spalte, zweiter Plot\n",
        "plt.plot(x, y2, \"o-g\", label=\"Zweite Daten\")\n",
        "plt.ylabel(\"some other y's\")\n",
        "plt.legend(loc=\"lower right\")\n",
        "\n",
        "plt.show()"
      ],
      "metadata": {
        "id": "8kLBTEylEgsx"
      },
      "execution_count": null,
      "outputs": []
    },
    {
      "cell_type": "code",
      "source": [
        "# Mehrere Daten in einem Plot\n",
        "## Subplots\n",
        "\n",
        "x2 = x\n",
        "y2 = [200,126,517,508,904]\n",
        "\n",
        "fig = plt.figure(figsize=(10,5))\n",
        "fig.suptitle('Some title')\n",
        "\n",
        "plt.subplot(1, 2, 1)  # 1 Zeilen, 2 Spalte, erster Plot\n",
        "plt.plot(x, y, \"k*:\", markersize= 12, linewidth = 2,label = \"Erste Daten\")\n",
        "plt.xlabel(\"some x values\")\n",
        "plt.ylabel(\"some y values\")\n",
        "plt.legend()      # platziert automatisch\n",
        "\n",
        "plt.subplot(1, 2, 2)  # 1 Zeilen, 2 Spalte, zweiter Plot\n",
        "plt.plot(x, y2, \"o-g\", label=\"Zweite Daten\")\n",
        "plt.xlabel(\"some x values\")\n",
        "plt.ylabel(\"some other y's\")\n",
        "plt.legend(loc=\"center left\")\n",
        "plt.subplots_adjust(wspace=0.2)\n",
        "\n",
        "plt.show()"
      ],
      "metadata": {
        "id": "otHGNzcZFwuP"
      },
      "execution_count": null,
      "outputs": []
    },
    {
      "cell_type": "code",
      "source": [
        "# Mehrere Daten in einem Plot\n",
        "import numpy as np\n",
        "t = np.arange(0., 5., 0.2)\n",
        "\n",
        "# red dashes, blue squares and green triangles\n",
        "plt.plot(t, t, 'r--', t, t**2, 'bs', t, t**3, 'gd')\n",
        "plt.show()\n"
      ],
      "metadata": {
        "id": "iaAnEQg2HUKu"
      },
      "execution_count": null,
      "outputs": []
    },
    {
      "cell_type": "markdown",
      "source": [
        "### Achsen"
      ],
      "metadata": {
        "id": "x21yXWgA7o_B"
      }
    },
    {
      "cell_type": "code",
      "source": [
        "# Fixing random state for reproducibility\n",
        "np.random.seed(19680801)\n",
        "\n",
        "y = np.random.normal(loc=0.5, scale=0.4, size=1000)\n",
        "y = y[(y > 0) & (y < 1)]\n",
        "y.sort()\n",
        "x = np.arange(len(y))\n",
        "\n",
        "plt.figure()\n",
        "\n",
        "# linear\n",
        "plt.subplot(211)\n",
        "plt.plot(x, y)\n",
        "plt.yscale('linear')\n",
        "plt.title('linear')\n",
        "plt.grid(True)\n",
        "\n",
        "# log\n",
        "plt.subplot(212)\n",
        "plt.plot(x, y)\n",
        "plt.yscale('log')     # oder \"symlog\", \"logit\"\n",
        "plt.title('log')\n",
        "plt.grid(True)\n",
        "\n",
        "plt.subplots_adjust(hspace=0.35)\n",
        "\n",
        "plt.show()"
      ],
      "metadata": {
        "id": "GWh0SyzCMmR7"
      },
      "execution_count": null,
      "outputs": []
    },
    {
      "cell_type": "markdown",
      "source": [
        "### Text und Pfeile im Plot"
      ],
      "metadata": {
        "id": "NI_xxlo_7j7U"
      }
    },
    {
      "cell_type": "code",
      "source": [
        "# Text und Pfeile im Plot\n",
        "\n",
        "t = np.arange(0.0, 5.0, 0.01)\n",
        "s = np.cos(2*np.pi*t)\n",
        "line, = plt.plot(t, s, lw=2)\n",
        "\n",
        "plt.annotate('local max', xy=(2, 1), xytext=(3, 1.5),\n",
        "             arrowprops=dict(facecolor='black', shrink=0.05),\n",
        "             )\n",
        "plt.text(3,-1.5, \"Ein anderer Text\")\n",
        "plt.ylim(-2, 2)\n",
        "plt.show()"
      ],
      "metadata": {
        "id": "pa5OL0xCOCvJ"
      },
      "execution_count": null,
      "outputs": []
    },
    {
      "cell_type": "markdown",
      "source": [
        "### Andere Schreibweisen"
      ],
      "metadata": {
        "id": "X7-PRdJH7yHJ"
      }
    },
    {
      "cell_type": "code",
      "source": [
        "# Andere Schreibweise (oft in Tutorials und Foren verwendet)\n",
        "\n",
        "np.random.seed(19680801)\n",
        "t = np.arange(200)\n",
        "x = np.cumsum(np.random.randn(200))\n",
        "\n",
        "fig, axs = plt.subplots(ncols=2, figsize=(7, 2.5))    # fig = Figure, gesamter Plot\n",
        "                                                      # axs = Axes/subplots, Datenbereich\n",
        "axs[0].plot(t, x)\n",
        "axs[1].plot(-t, x)\n",
        "plt.show()\n",
        "\n",
        "# oder\n",
        "\n",
        "fig, (ax1,ax2) = plt.subplots(ncols=2, figsize=(7, 2.5))    # Einzelne Axes benannt\n",
        "\n",
        "ax1.plot(t, x)\n",
        "ax2.plot(-t, x)\n",
        "\n",
        "# Unterschied: Die meisten Funktionen müssen mit einem \".set_...\" ergänzt werden\n",
        "ax1.set_xlabel(\"x label\")\n",
        "# oder\n",
        "ax2.set(xlabel=\"x label\", ylabel = \"ylabel\", xlim = (-250, 50))\n",
        "#https://matplotlib.org/stable/api/_as_gen/matplotlib.axes.Axes.set.html\n"
      ],
      "metadata": {
        "id": "swS-b8TPnf0w"
      },
      "execution_count": null,
      "outputs": []
    },
    {
      "cell_type": "markdown",
      "source": [
        "Es wird behaupter, dass für einfache Plot die plt.plot() Schreibweise ausreicht.\n",
        "Sobald man aber volle Kontrolle über alle Parameter im Plot haben möchte, muss man über Axes.plot() arbeiten.\n",
        "\n",
        "https://stackoverflow.com/questions/43482191/matplotlib-axes-plot-vs-pyplot-plot\n",
        "\n"
      ],
      "metadata": {
        "id": "8ffvDNzrqcw9"
      }
    },
    {
      "cell_type": "code",
      "source": [
        "# Farben bestimmen\n",
        "import numpy as np\n",
        "\n",
        "fig = plt.figure()\n",
        "ax = plt.axes()\n",
        "\n",
        "x= np.linspace(0, 10, 1001)\n",
        "ax.plot(x, np.cos(x), color='blue')\n",
        "ax.plot(x, np.cos(x-1), color='g')\n",
        "ax.plot(x, np.cos(x-2), color='0.75')\n",
        "ax.plot(x, np.cos(x-3), color='#ffdd44')\n",
        "ax.plot(x, np.cos(x-4), color=(1., .2, .3)) ##RGB\n",
        "ax.plot(x, np.cos(x-5), color='chartreuse');"
      ],
      "metadata": {
        "id": "QZrVFoa9Axv-"
      },
      "execution_count": null,
      "outputs": []
    },
    {
      "cell_type": "markdown",
      "source": [
        "### Plots abspeichern"
      ],
      "metadata": {
        "id": "qtKGjmto71lh"
      }
    },
    {
      "cell_type": "code",
      "source": [
        "# Wenn du mir Google Colab arbeitest\n",
        "# Drive muss verbunden werden\n",
        "#Reference: https://colab.research.google.com/notebooks/io.ipynb#scrollTo=u22w3BFiOveAå\n",
        "from google.colab import drive\n",
        "drive.mount('/content/drive')\n",
        "path = '/content/drive/MyDrive/Colab Notebooks/Python_Kurs/Plots/'\n"
      ],
      "metadata": {
        "id": "-DKFQqWav_2b"
      },
      "execution_count": null,
      "outputs": []
    },
    {
      "cell_type": "code",
      "source": [
        "# Plots abspeichern\n",
        "\n",
        "t = np.arange(20)\n",
        "x = np.sin(t)\n",
        "\n",
        "fig, axs = plt.subplots(2,2, figsize=(7, 4))\n",
        "\n",
        "axs[0,0].plot(t, x, \"b.-\", label=\"x\")\n",
        "axs[0,0].set(title=\"[0,0]\", xlabel=\"x-values\",ylabel=\"y-values\")\n",
        "\n",
        "axs[0,1].plot(t, x**2, \"ko:\", label=\"x**2\")\n",
        "axs[0,1].set(title=\"[0,1]\", xlabel=\"x-values\",ylabel=\"y-values\")\n",
        "\n",
        "axs[1,0].plot(t, x**3, \"r--\", label=\"x**3\")\n",
        "axs[1,0].set(title=\"[1,0]\", xlabel=\"x-values\",ylabel=\"y-values\")\n",
        "\n",
        "axs[1,1].plot(t, -x, \"gd-\", label=\"-x\")\n",
        "axs[1,1].set(title=\"[1,1]\", xlabel=\"x-values\",ylabel=\"y-values\")\n",
        "\n",
        "plt.subplots_adjust(hspace=0.7, wspace=0.3)\n",
        "fig.suptitle(\"Wie speicher ich Plots ab?\")\n",
        "fig.legend(bbox_to_anchor=(1.1, 0.6))\n",
        "\n",
        "\n",
        "# Speichern\n",
        "plt.savefig(path+\"Plot_speichern.png\")  # Legende abgeschnitten\n",
        "plt.savefig(path+\"Plot_speichern_tight.png\", bbox_inches=\"tight\") # Bild unscharf\n",
        "plt.savefig(path+\"Plot_speichern_tight_dpi200.png\", bbox_inches=\"tight\", dpi=200)\n",
        "plt.savefig(path+\"Plot_speichern_tight_dpi200.pdf\")\n",
        "plt.savefig(path+\"Plot_speichern_tight_dpi200.jpg\")"
      ],
      "metadata": {
        "id": "3WIP3-_1sf-e"
      },
      "execution_count": null,
      "outputs": []
    },
    {
      "cell_type": "markdown",
      "source": [
        "#### Zusammenfassung\n",
        "\n",
        "- Matplotlib ermöglicht das Darstellen von Daten\n",
        "- Ein \"Plot\" besteht aus einem Figure (gesamter Rahmen), in diesem Figure finden wir Axes (Datenbereich) - https://matplotlib.org/stable/users/explain/axes/axes_intro.html\n",
        "- Für jeden Bereich haben wir mehrere Style Parameter, die wir durch funktions-parameter einstellen können\n",
        "- Es gibt z.B. eine Vielzahl von möglichen Liniensytles und Marker-Symbolen und Farben.\n",
        "Schaue z.B. hier:\n",
        "\n",
        "  * Linesytles:\n",
        "  https://matplotlib.org/stable/gallery/lines_bars_and_markers/linestyles.html\n",
        "\n",
        "  * Marker:\n",
        "  https://matplotlib.org/stable/api/markers_api.html\n",
        "\n",
        "  * Farben:\n",
        "  https://matplotlib.org/stable/gallery/color/named_colors.html\n"
      ],
      "metadata": {
        "id": "tveubAkijmu4"
      }
    },
    {
      "cell_type": "markdown",
      "source": [
        "Linienstile:\n",
        "\n",
        "    '-' (solid line)\n",
        "    '--' (dashed line)\n",
        "    ':' (dotted line)\n",
        "    '-.' (dash-dot line)\n",
        "    'None' oder '' (no line)\n",
        "\n",
        "Marker:\n",
        "\n",
        "    '.' (point marker)\n",
        "    ',' (pixel marker)\n",
        "    'o' (circle marker)\n",
        "    'v' (triangle_down marker)\n",
        "    '^' (triangle_up marker)\n",
        "    '<' (triangle_left marker)\n",
        "    '>' (triangle_right marker)\n",
        "    '1' (tri_down marker)\n",
        "    '2' (tri_up marker)\n",
        "    '3' (tri_left marker)\n",
        "    '4' (tri_right marker)\n",
        "    's' (square marker)\n",
        "    'p' (pentagon marker)\n",
        "    '*' (star marker)\n",
        "    'h' (hexagon1 marker)\n",
        "    'H' (hexagon2 marker)\n",
        "    '+' (plus marker)\n",
        "    'x' (x marker)\n",
        "    'D' (diamond marker)\n",
        "    'd' (thin_diamond marker)\n",
        "\n",
        "Farben (optional):\n",
        "\n",
        "    'b' (blue)\n",
        "    'g' (green)\n",
        "    'r' (red)\n",
        "    'c' (cyan)\n",
        "    'm' (magenta)\n",
        "    'y' (yellow)\n",
        "    'k' (black)\n",
        "    'w' (white)\n",
        "\n"
      ],
      "metadata": {
        "id": "ELC8GjvEjsN6"
      }
    },
    {
      "cell_type": "markdown",
      "source": [
        "Es gibt auch alternative Wege um die Parameter der Plots zu ändern:\n",
        "* rcParams\n",
        "* Style sheets\n",
        "\n",
        "Siehe hier:\n",
        "https://matplotlib.org/stable/users/explain/customizing.html\n",
        "\n"
      ],
      "metadata": {
        "id": "5ou5foelTUkF"
      }
    },
    {
      "cell_type": "markdown",
      "source": [
        "#### Übung 4.1.\n",
        "\n",
        "Erstellen Sie einen einfachen Liniengraphen für die Funktion y=x^2 und führen Sie schrittweise Änderungen an den Matplotlib-Parametern durch.\n",
        "\n",
        "* Schritt 1: Grundlegender Plot\n",
        "\n",
        "Erstellen Sie einen einfachen Liniengraphen für die Funktion y=x^2. Verwenden Sie dabei eine durchgehende Linie und setzen Sie passende Achsentitel.\n",
        "\n",
        "* Schritt 2: Marker hinzufügen\n",
        "\n",
        "Fügen Sie jedem Datenpunkt auf der Linie einen Kreismarker hinzu.\n",
        "\n",
        "* Schritt 3: Linienstil ändern\n",
        "\n",
        "Ändern Sie den Linienstil zu einer gestrichelten Linie und lassen Sie die Marker weiterhin sichtbar.\n",
        "\n",
        "* Schritt 4: Farben anpassen\n",
        "\n",
        "Ändern Sie die Farbe der Linie zu Rot und die Farbe der Marker zu Blau.\n",
        "\n",
        "* Schritt 5: Achsenlimits festlegen\n",
        "\n",
        "Legen Sie die Achsenlimits so fest, dass nur der Bereich von x=−2 bis x=2 und y=0 bis y=5 sichtbar ist.\n",
        "\n",
        "* Schritt 6: Legende hinzufügen\n",
        "\n",
        "Fügen Sie eine Legende hinzu, die den Graphen als y=x^2 erklärt und platzieren Sie sie an einer geeigneten Stelle.\n",
        "\n",
        "* Schritt 7: Schriftgrößen ändern\n",
        "\n",
        "Ändern Sie die Schriftgrößen für den Titel, die Achsentitel und die Legende.\n",
        "\n",
        "* Schritt 8: Gitter hinzufügen\n",
        "\n",
        "Fügen Sie ein Gitter zum Plot hinzu.\n",
        "\n",
        "* Schritt 9: Achsenbeschriftungen anpassen\n",
        "\n",
        "Passen Sie die Achsenbeschriftungen an, indem Sie die Schriftart, die Schriftfarbe und die Schriftgröße ändern.\n",
        "\n",
        "* Schritt 10: Doppelter Plot hinzufügen\n",
        "\n",
        "Fügen Sie einen zweiten Plot für die Funktion y=x^3 hinzu und verwenden Sie eine unterschiedliche Linienfarbe und einen anderen Marker. Stellen Sie beide Funktionen in einem Plot dar und verwenden Sie eine zweite Y-Achse für die Funktion y=x^3.\n",
        "\n",
        "\n",
        "Hinweise:\n",
        "- Experimentieren Sie mit verschiedenen Parametern, um ein Gefühl für deren Auswirkungen zu bekommen.\n",
        "- Konsultieren Sie die Matplotlib-Dokumentation für zusätzliche Informationen zu den Parametern\n",
        "- Nutzen Sie die Funktionen plt.title, plt.xlabel, plt.ylabel, plt.legend für die Anpassung der Schriftgrößen.\n",
        "- Verwenden Sie plt.grid für das Hinzufügen eines Gitters.\n",
        "- Experimentieren Sie weiterhin mit verschiedenen Parametern, um ein Gefühl für deren Auswirkungen zu bekommen."
      ],
      "metadata": {
        "id": "24GEh0CWNs8Y"
      }
    },
    {
      "cell_type": "code",
      "source": [
        "import matplotlib.pyplot as plt\n",
        "import numpy as np\n",
        "\n",
        "# Schritt 1: Grundlegender Plot\n",
        "x = np.linspace(-2, 2, 50)\n",
        "y = x**2\n",
        "\n",
        "#..."
      ],
      "metadata": {
        "id": "vBwsPs_ENsqw"
      },
      "execution_count": null,
      "outputs": []
    },
    {
      "cell_type": "markdown",
      "source": [
        "## 4.2. - Weitere Plot-Typen"
      ],
      "metadata": {
        "id": "VY_fia-gNjXe"
      }
    },
    {
      "cell_type": "markdown",
      "source": [
        "### Scatter"
      ],
      "metadata": {
        "id": "RBjCr-Ac8K19"
      }
    },
    {
      "cell_type": "code",
      "source": [
        "# Scatter plots\n",
        "# Keine Linien\n",
        "# https://matplotlib.org/stable/api/_as_gen/matplotlib.pyplot.scatter.html\n",
        "\n",
        "x = np.arange(50)                      # z.B. Länge\n",
        "y = np.random.randint(-50,150,len(x))   # z.B. Höhe\n",
        "z = np.random.randint(0, 1000, len(x))  # Parameter 1 (Größe)\n",
        "c = np.random.randint(0, 10, len(x))     # Parameter 2 (Farbe)\n",
        "\n",
        "plt.scatter(x, y, s=z, c=c, cmap='rainbow',alpha = 0.5,label=\"Größe\")   # s bestimmt hier die \"size\" der Bubbles, basierend auf den Werten z\n",
        "plt.colorbar(label='Farbwert')\n",
        "plt.xlabel('x-Werte')\n",
        "plt.ylabel('y-Werte')\n",
        "plt.legend(bbox_to_anchor=(1., 0., 0.5, 0.5))\n",
        "plt.show()                              # Nicht immer nötig, aber sauberer wenn es verwendet wird"
      ],
      "metadata": {
        "id": "kHB7aH7rHbOr"
      },
      "execution_count": null,
      "outputs": []
    },
    {
      "cell_type": "markdown",
      "source": [
        "- cmap = colormaps\n",
        "\n",
        "Colormaps (Farbkarten) sind in Matplotlib ein leistungsstarkes Mittel, um Daten in Diagrammen und Plots visuell darzustellen. Colormaps ordnen numerischen Werten Farben zu und helfen, Muster in den Daten leichter zu erkennen.\n",
        "\n",
        "-> https://matplotlib.org/stable/users/explain/colors/colormaps.html"
      ],
      "metadata": {
        "id": "hU-Wcy-5h7eE"
      }
    },
    {
      "cell_type": "markdown",
      "source": [
        "### Bar"
      ],
      "metadata": {
        "id": "GzBd8cEX8OSU"
      }
    },
    {
      "cell_type": "code",
      "source": [
        "# Bar-plot\n",
        "# https://matplotlib.org/stable/api/_as_gen/matplotlib.pyplot.bar.html\n",
        "\n",
        "fig, ax = plt.subplots()\n",
        "\n",
        "fruits = ['apple', 'blueberry', 'cherry', 'orange']\n",
        "counts = [40, 100, 30, 55]\n",
        "bar_labels = ['red', 'blue', '_red', 'orange']\n",
        "bar_colors = ['tab:red', 'tab:blue', 'tab:red', 'tab:orange']\n",
        "\n",
        "ax.bar(fruits, counts, label=bar_labels, color=bar_colors)\n",
        "\n",
        "ax.set_ylabel('fruit supply')\n",
        "ax.set_title('Fruit supply by kind and color')\n",
        "ax.legend(title='Fruit color')\n",
        "\n",
        "plt.show()"
      ],
      "metadata": {
        "id": "uWZJpmpMKpLQ"
      },
      "execution_count": null,
      "outputs": []
    },
    {
      "cell_type": "code",
      "source": [
        "# Bar-Plot 2 - stacked/unstacked\n",
        "# https://www.analyticsvidhya.com/blog/2021/08/understanding-bar-plots-in-python-beginners-guide-to-data-visualization/\n",
        "import pandas as pd\n",
        "\n",
        "plotdata = pd.DataFrame({\n",
        "    \"2018\":[57,67,77,83],\n",
        "    \"2019\":[68,73,80,79],\n",
        "    \"2020\":[73,78,80,85]},\n",
        "    index=[\"Django\", \"Gafur\", \"Tommy\", \"Ronnie\"])\n",
        "\n",
        "\n",
        "plotdata.plot(kind=\"bar\",figsize=(6, 2))\n",
        "plt.title(\"FIFA ratings\")\n",
        "plt.xlabel(\"Footballer\")\n",
        "plt.ylabel(\"Ratings\")\n",
        "plt.show()\n",
        "\n",
        "plotdata.plot(kind='bar', stacked=True, figsize=(6, 2))\n",
        "plt.title(\"FIFA ratings\")\n",
        "plt.xlabel(\"Footballer\")\n",
        "plt.ylabel(\"Ratings\")\n",
        "plt.show()"
      ],
      "metadata": {
        "id": "ogyc8_fIXJPA"
      },
      "execution_count": null,
      "outputs": []
    },
    {
      "cell_type": "markdown",
      "source": [
        "### Histogramme"
      ],
      "metadata": {
        "id": "7gle1s8d8R98"
      }
    },
    {
      "cell_type": "code",
      "source": [
        "# Historgramm\n",
        "# https://matplotlib.org/stable/gallery/statistics/hist.html\n",
        "\n",
        "x = np.random.normal(170, 10, 250)   # generiert normal-verteilte Werte\n",
        "plt.hist(x)\n",
        "plt.grid()\n",
        "plt.show()"
      ],
      "metadata": {
        "id": "7ekoc1KdK2Qo"
      },
      "execution_count": null,
      "outputs": []
    },
    {
      "cell_type": "markdown",
      "source": [
        "### Kuchen"
      ],
      "metadata": {
        "id": "uMjHUOZ38T_K"
      }
    },
    {
      "cell_type": "code",
      "source": [
        "# Kuchen-Diagramm\n",
        "# https://matplotlib.org/stable/gallery/pie_and_polar_charts/pie_features.html\n",
        "import matplotlib.pyplot as plt\n",
        "\n",
        "labels = 'Frogs', 'Hogs', 'Dogs', 'Logs'\n",
        "sizes = [15, 30, 45, 10]\n",
        "\n",
        "fig, ax = plt.subplots()\n",
        "ax.pie(sizes, labels=labels, autopct='%1.1f%%')\n",
        "plt.show()"
      ],
      "metadata": {
        "id": "GPikR13eOHlt"
      },
      "execution_count": null,
      "outputs": []
    },
    {
      "cell_type": "markdown",
      "source": [
        "### 3D"
      ],
      "metadata": {
        "id": "LYOpeSAG8W8L"
      }
    },
    {
      "cell_type": "code",
      "source": [
        "# 3D-Plot\n",
        "#https://matplotlib.org/stable/gallery/mplot3d/index.html\n",
        "#https://matplotlib.org/stable/gallery/mplot3d/wire3d.html#sphx-glr-gallery-mplot3d-wire3d-py\n",
        "from mpl_toolkits.mplot3d import axes3d\n",
        "\n",
        "fig = plt.figure()\n",
        "ax = fig.add_subplot(projection='3d')\n",
        "\n",
        "# Grab some test data.\n",
        "X, Y, Z = axes3d.get_test_data(0.05)\n",
        "\n",
        "# Plot a basic wireframe.\n",
        "ax.plot_wireframe(X, Y, Z, rstride=10, cstride=10)\n",
        "ax.set(xlabel=\"x\", ylabel=\"y\")\n",
        "plt.show()\n"
      ],
      "metadata": {
        "id": "pHMFDRFyONbA"
      },
      "execution_count": null,
      "outputs": []
    },
    {
      "cell_type": "markdown",
      "source": [
        "### Interaktive"
      ],
      "metadata": {
        "id": "JQpidoJ28ZRq"
      }
    },
    {
      "cell_type": "code",
      "source": [
        "# Interactive Plot\n",
        "# Plotly\n",
        "# https://plotly.com/python/\n",
        "# https://plotly.com/python/bubble-charts/\n",
        "\n",
        "import plotly.express as px\n",
        "df = px.data.gapminder()\n",
        "\n",
        "fig = px.scatter(df.query(\"year==2007\"), x=\"gdpPercap\", y=\"lifeExp\",\n",
        "\t         size=\"pop\", color=\"continent\",\n",
        "                 hover_name=\"country\", log_x=True, size_max=60)\n",
        "fig.show()"
      ],
      "metadata": {
        "id": "SkvsLmgDcAov"
      },
      "execution_count": null,
      "outputs": []
    },
    {
      "cell_type": "markdown",
      "source": [
        "#### Übung 4.2.\n",
        "\n",
        "Gegeben ist ein Datensatz df (siehe unten).\n",
        "\n",
        "* Übungsaufgabe 1: Liniendiagramm\n",
        "\n",
        "Erstellen Sie ein Liniendiagramm, das die Werte von 'Wert1','Wert2' und 'Wert3' für jede Kategorie darstellt. Passen Sie die Linienfarben, Marker und die Legende an.\n",
        "\n",
        "* Übungsaufgabe 2: Balkendiagramm\n",
        "\n",
        "Erstellen Sie ein gestapeltes Balkendiagramm, das die Summe der Werte von 'Wert1','Wert2' und 'Wert3' für jede Kategorie zeigt. Passen Sie die Farben der Balken an und fügen Sie Achsentitel hinzu.\n",
        "\n",
        "* Übungsaufgabe 3: Tortendiagramm\n",
        "\n",
        "Erstellen Sie ein Tortendiagramm, das den prozentualen Anteil von 'Wert1' für jede Kategorie zeigt. Betonen Sie die Kategorie mit dem höchsten prozentualen Anteil.\n",
        "\n",
        "* Übungsaufgabe 4: Scatterplot\n",
        "\n",
        "Erstellen Sie einen Scatterplot, der 'Wert1' gegen 'Wert2' für jede Kategorie darstellt. Passen Sie die Markerfarben, -formen und -größen (dafür Wert 3 nutzen?) an."
      ],
      "metadata": {
        "id": "6OzDM42td2uh"
      }
    },
    {
      "cell_type": "code",
      "source": [
        "import matplotlib.pyplot as plt\n",
        "import pandas as pd\n",
        "import numpy as np\n",
        "\n",
        "# Überarbeiteter Beispiel-Datensatz\n",
        "np.random.seed(42)\n",
        "\n",
        "data = {\n",
        "    'Kategorie': ['A', 'B', 'C', 'D', 'E'],\n",
        "    'Wert1': np.random.randint(10, 50, size=5),\n",
        "    'Wert2': np.random.randint(20, 60, size=5),\n",
        "    'Wert3': np.random.randint(5, 25, size=5),\n",
        "}\n",
        "\n",
        "df = pd.DataFrame(data)\n",
        "df"
      ],
      "metadata": {
        "id": "1U39izEp2iKx"
      },
      "execution_count": null,
      "outputs": []
    },
    {
      "cell_type": "markdown",
      "source": [
        "## 4.3. - Datasets, Loops and Plots"
      ],
      "metadata": {
        "id": "859U25dtVqyY"
      }
    },
    {
      "cell_type": "markdown",
      "source": [
        "### Datasets"
      ],
      "metadata": {
        "id": "C0S-Sfqu8hI0"
      }
    },
    {
      "cell_type": "code",
      "source": [
        "import pandas as pd\n",
        "df = pd.read_csv('https://raw.githubusercontent.com/selva86/datasets/master/Cars93_miss.csv')\n",
        "pd.set_option('display.max_columns', None)\n",
        "df"
      ],
      "metadata": {
        "id": "v5ftN3Nca4un"
      },
      "execution_count": null,
      "outputs": []
    },
    {
      "cell_type": "markdown",
      "source": [
        "  Für nicht-Auto-Experten wie mich:\n",
        "  \n",
        "    Model: Der Modellname des Autos.\n",
        "    Type: Der Typ des Autos (z.B., Limousine, Kombi, etc.).\n",
        "    Min.Price: Der minimale Preis des Autos.\n",
        "    Price: Der Preis des Autos.\n",
        "    Max.Price: Der maximale Preis des Autos.\n",
        "    MPG.city: Der Kraftstoffverbrauch in Meilen pro Gallone in der Stadt.\n",
        "    MPG.highway: Der Kraftstoffverbrauch in Meilen pro Gallone auf der Autobahn.\n",
        "    AirBags: Informationen über die Airbag-Ausstattung des Autos.\n",
        "    DriveTrain: Der Antrieb des Autos (z.B., Vorderradantrieb, Hinterradantrieb).\n",
        "    Cylinders: Die Anzahl der Zylinder im Motor.\n",
        "    EngineSize: Die Größe des Motors.\n",
        "    Horsepower: Die Pferdestärken des Motors.\n",
        "    RPM: Die Umdrehungen pro Minute des Motors.\n",
        "    Rev.per.mile: Die Motorumdrehungen pro Meile.\n",
        "    Man.trans.avail: Die Verfügbarkeit eines manuellen Getriebes.\n",
        "    Fuel.tank.capacity: Die Tankkapazität des Autos.\n",
        "    Passengers: Die Anzahl der Passagiere, die das Auto aufnehmen kann.\n",
        "    Length: Die Länge des Autos.\n",
        "    Wheelbase: Der Radstand des Autos.\n",
        "    Width: Die Breite des Autos.\n",
        "    Turn.circle: Der Wendekreis des Autos.\n",
        "    Rear.seat.room: Der Platz im hinteren Sitzbereich.\n",
        "    Luggage.room: Der Stauraum im Kofferraum.\n",
        "    Weight: Das Gewicht des Autos.\n",
        "    Origin: Die Herkunft des Autos.\n",
        "    Make: Der Hersteller des Autos."
      ],
      "metadata": {
        "id": "XUtLHosrStQe"
      }
    },
    {
      "cell_type": "code",
      "source": [
        "# Die ersten Zeilen des Datensatzes anzeigen\n",
        "print(df.head())\n",
        "\n",
        "# Eine Zusammenfassung der numerischen Spalten anzeigen\n",
        "print(df.describe())\n",
        "\n",
        "# Die Typen der Spalten anzeigen\n",
        "print(df.dtypes)"
      ],
      "metadata": {
        "id": "a9Gpv8BzepM4"
      },
      "execution_count": null,
      "outputs": []
    },
    {
      "cell_type": "code",
      "source": [
        "# Beispiel: Zusammenhang zwischen EngineSize und Horsepower\n",
        "\n",
        "import matplotlib.pyplot as plt\n",
        "import seaborn as sns  # Für zusätzliche Visualisierungsfunktionen\n",
        "\n",
        "plt.scatter(df['EngineSize'], df['Horsepower'])\n",
        "plt.title('EngineSize vs Horsepower')\n",
        "plt.xlabel('EngineSize')\n",
        "plt.ylabel('Horsepower')\n",
        "plt.show()"
      ],
      "metadata": {
        "id": "4zsFKVEbPrA5"
      },
      "execution_count": null,
      "outputs": []
    },
    {
      "cell_type": "markdown",
      "source": [
        "### Analysen"
      ],
      "metadata": {
        "id": "X_ngTUdb8m-D"
      }
    },
    {
      "cell_type": "code",
      "source": [
        "# Beispiel: Verteilung der Pferdestärken (Horsepower)\n",
        "\n",
        "sns.boxplot(x=df['Horsepower'])\n",
        "plt.title('Verteilung der Pferdestärken (Horsepower)')\n",
        "plt.show()\n",
        "df['Horsepower'].describe()"
      ],
      "metadata": {
        "id": "NCDuhmh7PyCv"
      },
      "execution_count": null,
      "outputs": []
    },
    {
      "cell_type": "code",
      "source": [
        "# Mehrere Boxplots\n",
        "cols = ['Price','Horsepower', 'Length', 'Wheelbase', 'Width']\n",
        "df.loc[:,cols].boxplot()"
      ],
      "metadata": {
        "id": "ntXLKXxKeErA"
      },
      "execution_count": null,
      "outputs": []
    },
    {
      "cell_type": "code",
      "source": [
        "# Beispiel: Histogramm der Motorgröße (EngineSize)\n",
        "plt.hist(df['EngineSize'], bins=20, color='skyblue', edgecolor='black')\n",
        "plt.title('Histogramm der Motorgröße (EngineSize)')\n",
        "plt.xlabel('EngineSize')\n",
        "plt.ylabel('Anzahl der Modelle')\n",
        "plt.show()"
      ],
      "metadata": {
        "id": "6gOCoewdQm7O"
      },
      "execution_count": null,
      "outputs": []
    },
    {
      "cell_type": "code",
      "source": [
        "# Korrelationsmatrix erstellen\n",
        "correlation_matrix = df.corr()\n",
        "\n",
        "# Heatmap erstellen\n",
        "plt.figure(figsize=(12, 6))\n",
        "sns.heatmap(correlation_matrix, annot=True, cmap='coolwarm')\n",
        "plt.title('Korrelationsmatrix')\n",
        "plt.show()"
      ],
      "metadata": {
        "id": "rRm8Psp8Qww9"
      },
      "execution_count": null,
      "outputs": []
    },
    {
      "cell_type": "code",
      "source": [
        "plt.scatter(df.Price,df.Horsepower)"
      ],
      "metadata": {
        "id": "2uJblbsedowY"
      },
      "execution_count": null,
      "outputs": []
    },
    {
      "cell_type": "code",
      "source": [
        "# # Beispiel: Trend zwischen EngineSize und Horsepower\n",
        "\n",
        "# keine NaNs erlaubt für die Berechnung\n",
        "df = df.dropna(subset=[\"Price\",\"Horsepower\"])\n",
        "x = df.Price\n",
        "y = df.Horsepower\n",
        "\n",
        "# Plot erstellen\n",
        "plt.scatter(x,y)\n",
        "plt.xlabel(\"Price [k]\")\n",
        "plt.ylabel(\"Horsepower [PS]\")\n",
        "\n",
        "# Trendlinie berechnen\n",
        "z = np.polyfit(x,y,1)\n",
        "p = np.poly1d(z)\n",
        "\n",
        "# Trendlinie zum Plot hinzufügen\n",
        "plt.plot(x, p(x), \"r-\")\n",
        "print (\"y=%.6fx+(%.6f)\"%(z[0],z[1]))"
      ],
      "metadata": {
        "id": "zM7rbNqnVoWA"
      },
      "execution_count": null,
      "outputs": []
    },
    {
      "cell_type": "code",
      "source": [
        "# Beispiel: Trend zwischen EngineSize und Horsepower\n",
        "# Trendlinie = Regression\n",
        "sns.regplot(x='EngineSize', y='Horsepower', data=df, scatter_kws={'s': 20}, line_kws={'color': 'red'})\n",
        "plt.title('Trend zwischen EngineSize und Horsepower')\n",
        "\n",
        "plt.show()"
      ],
      "metadata": {
        "id": "hOlQjpNsRNJ2"
      },
      "execution_count": null,
      "outputs": []
    },
    {
      "cell_type": "code",
      "source": [
        "# Beispiel: Anzahl der Modelle nach Marke\n",
        "df['Manufacturer'].value_counts().plot(kind='bar', color=\"tomato\")\n",
        "plt.title('Anzahl der Modelle nach Marke')\n",
        "plt.xlabel('Marke')\n",
        "plt.ylabel('Anzahl der Modelle')\n",
        "plt.show()"
      ],
      "metadata": {
        "id": "_cp3x-oWTZRL"
      },
      "execution_count": null,
      "outputs": []
    },
    {
      "cell_type": "markdown",
      "source": [
        "### Loops & Plotten\n",
        "\n",
        "- Mit Loops plotten kann einem viel tippen ersparen"
      ],
      "metadata": {
        "id": "MWtTePEkUinL"
      }
    },
    {
      "cell_type": "code",
      "source": [
        "df"
      ],
      "metadata": {
        "id": "79Xa2wlsTz_3"
      },
      "execution_count": null,
      "outputs": []
    },
    {
      "cell_type": "code",
      "source": [
        "numerical_columns = df.select_dtypes(exclude='object').columns\n",
        "print(numerical_columns)"
      ],
      "metadata": {
        "id": "gOy9tz1OT3q3"
      },
      "execution_count": null,
      "outputs": []
    },
    {
      "cell_type": "code",
      "source": [
        "# Loops & mhrere Linien in einem Diagramm\n",
        "# Liste der numerischen Spalten\n",
        "numerical_columns = df.select_dtypes(exclude='object').columns\n",
        "print(numerical_columns)\n",
        "# Liniendiagramme für jede numerische Spalte erstellen\n",
        "for column in numerical_columns:\n",
        "    plt.plot(df.index, df[column], linestyle='-.', label=column)\n",
        "\n",
        "plt.title('Liniendiagramme für numerische Spalten')\n",
        "plt.xlabel('Automodell')\n",
        "plt.ylabel('Wert')\n",
        "plt.legend()\n",
        "plt.xticks(rotation=45, ha='right')\n",
        "plt.show()\n"
      ],
      "metadata": {
        "id": "SY0GzAe9Ujzh"
      },
      "execution_count": null,
      "outputs": []
    },
    {
      "cell_type": "code",
      "source": [
        "# Liste aller möglichen Paare von numerischen Spalten\n",
        "numerical_columns2 = numerical_columns[:int(len(numerical_columns)/2)]\n",
        "numerical_pairs = [(col1, col2) for i, col1 in enumerate(numerical_columns2) for col2 in numerical_columns2[i + 1:]]\n",
        "numerical_pairs"
      ],
      "metadata": {
        "id": "QUlNrs3tYJHP"
      },
      "execution_count": null,
      "outputs": []
    },
    {
      "cell_type": "code",
      "source": [
        "# Loops für mehrere Plots\n",
        "# Streudiagramme für jedes Paar erstellen\n",
        "for pair in numerical_pairs:\n",
        "    plt.subplots(figsize=(4,2))\n",
        "    plt.scatter(df[pair[0]], df[pair[1]], label=f'{pair[0]} vs {pair[1]}')\n",
        "    plt.title(f'Streudiagramm für {pair[0]} vs {pair[1]}')\n",
        "    plt.xlabel(pair[0])\n",
        "    plt.ylabel(pair[1])\n",
        "    plt.legend()\n",
        "    plt.show()"
      ],
      "metadata": {
        "id": "DH96UUurV3kL"
      },
      "execution_count": null,
      "outputs": []
    },
    {
      "cell_type": "code",
      "source": [
        "# Loops & Subplots\n",
        "# Anzahl der Zeilen und Spalten für die Subplots\n",
        "n_rows = 3\n",
        "n_cols = 3\n",
        "\n",
        "# Erstelle Subplots\n",
        "fig, axes = plt.subplots(n_rows, n_cols, figsize=(15, 15))\n",
        "\n",
        "# Flatten der Axes-Liste für einfachen Zugriff in der Schleife\n",
        "# Schleife durch die Paare & Axes und erstelle Streudiagramme in den Subplots\n",
        "for i, (pair, ax) in enumerate(zip(numerical_pairs, axes.flatten())):\n",
        "    ax.scatter(df[pair[0]], df[pair[1]])\n",
        "    ax.set_title(f'Streudiagramm für {pair[0]} vs {pair[1]}')\n",
        "    ax.set_xlabel(pair[0])\n",
        "    ax.set_ylabel(pair[1])\n",
        "\n",
        "# Titel und Layout für die gesamte Figur\n",
        "plt.suptitle('Streudiagramme für verschiedene Paare von numerischen Spalten', fontsize=16)\n",
        "plt.tight_layout(rect=[0, 0, 1, 0.96])  # rect wird verwendet, um Platz für suptitle zu machen\n",
        "plt.show()"
      ],
      "metadata": {
        "id": "Q5hw50qBV3dg"
      },
      "execution_count": null,
      "outputs": []
    },
    {
      "cell_type": "code",
      "source": [
        "# Loops & Subplots 2\n",
        "\n",
        "fig, axs = plt.subplots(ncols=2, nrows=2, figsize=(3.5, 2.5),\n",
        "                        layout=\"constrained\")\n",
        "# for each Axes, add an artist, in this case a nice label in the middle...\n",
        "for row in range(2):\n",
        "    for col in range(2):\n",
        "        print(row, col)\n",
        "        axs[row, col].annotate(f'axs[{row}, {col}]', (0.5, 0.5),\n",
        "                            transform=axs[row, col].transAxes,\n",
        "                            ha='center', va='center', fontsize=18,\n",
        "                            color='darkgrey')\n",
        "fig.suptitle('plt.subplots()')"
      ],
      "metadata": {
        "id": "ulBidbmAmP9o"
      },
      "execution_count": null,
      "outputs": []
    },
    {
      "cell_type": "markdown",
      "source": [
        "#### Übung 4.3.\n",
        "\n",
        "1. Durchschnittliche Pferdestärken (Horsepower) nach Hersteller (Manufacturer)\n",
        "\n",
        "Berechne den Durchschnitt der Pferdestärken (Horsepower) für jedes Hersteller (Manufacturer). Plotte diese Durchschnittswerte in einem Balkendiagramm.\n"
      ],
      "metadata": {
        "id": "Pl-gA2eYedxf"
      }
    },
    {
      "cell_type": "markdown",
      "source": [
        "2. Streudiagramm für den Zusammenhang zwischen Länge (Length) und Breite (Width)\n",
        "\n",
        "Erstelle ein Streudiagramm, das den Zusammenhang zwischen der Länge (Length) und der Breite (Width) der Automodelle zeigt. Verwende verschiedene Farben für unterschiedliche Herkunftsländer (Origin) und füge eine Legende hinzu.\n",
        "\n",
        "Hinweis: sns.scatterplot & hue"
      ],
      "metadata": {
        "id": "oJRFhofneka5"
      }
    },
    {
      "cell_type": "markdown",
      "source": [
        "3. Subplots für verschiedene numerische Spalten\n",
        "\n",
        "Erstelle ein 2x2-Subplot-Gitter. Plotte Histogramme für vier verschiedene numerische Spalten in jedem Subplot und die Anzahl der Modelle."
      ],
      "metadata": {
        "id": "SEln2yrBekHK"
      }
    },
    {
      "cell_type": "markdown",
      "source": [
        "## Zusatz: 4.4 - Karten plotten\n",
        ">> Für Geographen"
      ],
      "metadata": {
        "id": "vll4RC4d9Zcj"
      }
    },
    {
      "cell_type": "markdown",
      "source": [
        "#### Geopandas\n",
        "Mit Python können wir auch Geodatenanylse durchführen!\n",
        "\n",
        "GeoPandas ist eine Erweiterung von Pandas, die speziell für die Verarbeitung von geografischen Daten entwickelt wurde. Mit GeoPandas kannst du räumliche Operationen auf GeoDataFrames durchführen, die Geometrien wie Punkte, Linien oder Polygone enthalten.\n",
        "\n",
        "https://geopandas.org/en/stable/docs/user_guide/mapping.html\n",
        "\n",
        "https://geopandas.org/en/stable/getting_started/introduction.html"
      ],
      "metadata": {
        "id": "4w3FWV0ETYRg"
      }
    },
    {
      "cell_type": "code",
      "source": [
        "pip install geopandas"
      ],
      "metadata": {
        "id": "O5Rwq5QJ1XEj"
      },
      "execution_count": null,
      "outputs": []
    },
    {
      "cell_type": "code",
      "source": [
        "import geopandas as gpd\n",
        "import matplotlib.pyplot as plt"
      ],
      "metadata": {
        "id": "Dunh5kld1XlC"
      },
      "execution_count": null,
      "outputs": []
    },
    {
      "cell_type": "code",
      "source": [
        "# Beispiel: Einlesen einer Shapefile-Datei mit Weltländern\n",
        "world = gpd.read_file(gpd.datasets.get_path('naturalearth_lowres'))\n",
        "world.head()"
      ],
      "metadata": {
        "id": "Gd88R6wA1ZBw"
      },
      "execution_count": null,
      "outputs": []
    },
    {
      "cell_type": "code",
      "source": [
        "# Beispiel: Visualisierung der Weltländer\n",
        "world.plot()\n",
        "plt.title('Weltländer')\n",
        "plt.show()"
      ],
      "metadata": {
        "id": "btV-SE2J1wRw"
      },
      "execution_count": null,
      "outputs": []
    },
    {
      "cell_type": "code",
      "source": [
        "# Beispiel: Filtern von Ländern in Europa\n",
        "europe = world[world['continent'] == 'Europe']\n",
        "\n",
        "# Beispiel: Visualisierung der europäischen Länder\n",
        "europe.plot()\n",
        "plt.title('Europäische Länder')\n",
        "plt.show()\n"
      ],
      "metadata": {
        "id": "97XtyQmT1wPF"
      },
      "execution_count": null,
      "outputs": []
    },
    {
      "cell_type": "code",
      "source": [
        "# Beispiel: Einlesen von Geodaten für Städte\n",
        "cities = gpd.read_file(gpd.datasets.get_path('naturalearth_cities'))\n",
        "\n",
        "# Beispiel: Räumliche Verknüpfung von Städten mit Ländern\n",
        "cities_in_europe = gpd.sjoin(cities, europe, how=\"inner\", op=\"intersects\")\n",
        "\n",
        "# Beispiel: Visualisierung von Städten in Europa\n",
        "cities_in_europe.plot(marker='o', color='red', markersize=5, ax=europe.plot())\n",
        "plt.title('Städte in Europa')\n",
        "plt.show()\n"
      ],
      "metadata": {
        "id": "8QLdM7jJ1wER"
      },
      "execution_count": null,
      "outputs": []
    },
    {
      "cell_type": "markdown",
      "source": [
        " Karten mit Folium"
      ],
      "metadata": {
        "id": "wZZ28fBV2KT-"
      }
    },
    {
      "cell_type": "markdown",
      "source": [
        "#### Folium\n",
        "\n",
        "https://python-visualization.github.io/folium/latest/getting_started.html"
      ],
      "metadata": {
        "id": "FfHDCVCj9IEN"
      }
    },
    {
      "cell_type": "code",
      "source": [
        "import folium"
      ],
      "metadata": {
        "id": "QiqZbsHGUW8P"
      },
      "execution_count": null,
      "outputs": []
    },
    {
      "cell_type": "code",
      "source": [
        "import folium\n",
        "\n",
        "# Koordinaten für den Startpunkt (hier: Berlin, Deutschland)\n",
        "latitude, longitude = 52.5200, 13.4050\n",
        "\n",
        "# Karte erstellen\n",
        "map_berlin = folium.Map(location=[latitude, longitude], zoom_start=12)\n"
      ],
      "metadata": {
        "id": "t64kTt0ori03"
      },
      "execution_count": null,
      "outputs": []
    },
    {
      "cell_type": "code",
      "source": [
        "# Einen Marker für den Brandenburger Tor hinzufügen\n",
        "folium.Marker(location=[52.5163, 13.3777], popup='Brandenburger Tor').add_to(map_berlin)\n",
        "\n",
        "# Einen weiteren Marker hinzufügen (Beispiel: Fernsehturm)\n",
        "folium.Marker(location=[52.5200, 13.4050], popup='Fernsehturm').add_to(map_berlin)\n"
      ],
      "metadata": {
        "id": "IRQIWsVrrmnW"
      },
      "execution_count": null,
      "outputs": []
    },
    {
      "cell_type": "code",
      "source": [
        "map_berlin"
      ],
      "metadata": {
        "id": "lc3U84Gcr5Gy"
      },
      "execution_count": null,
      "outputs": []
    },
    {
      "cell_type": "code",
      "source": [
        "# Einen Marker mit Popup und benutzerdefinierter Farbe hinzufügen\n",
        "folium.Marker(location=[52.5308, 13.3847], popup='Alexanderplatz', icon=folium.Icon(color='green')).add_to(map_berlin)\n"
      ],
      "metadata": {
        "id": "PuIpCuKIroja"
      },
      "execution_count": null,
      "outputs": []
    },
    {
      "cell_type": "code",
      "source": [
        "map_berlin"
      ],
      "metadata": {
        "id": "o-XerF_AsJoo"
      },
      "execution_count": null,
      "outputs": []
    },
    {
      "cell_type": "code",
      "source": [
        "# Einen Kreis auf der Karte zeichnen (Beispiel: 1 km Radius um den Alexanderplatz)\n",
        "folium.Circle(location=[52.5308, 13.3847], radius=1000, color='crimson', fill=True, fill_color='crimson').add_to(map_berlin)\n",
        "map_berlin"
      ],
      "metadata": {
        "id": "-OggC_zZsKRx"
      },
      "execution_count": null,
      "outputs": []
    },
    {
      "cell_type": "code",
      "source": [
        "# Ein Polygon auf der Karte zeichnen (Beispiel: Umrisse von Berlin-Mitte)\n",
        "polygon_coords = [(52.5308, 13.3847), (52.5163, 13.3777), (52.5200, 13.4050)]\n",
        "folium.Polygon(locations=polygon_coords, color='blue', fill=True, fill_color='blue').add_to(map_berlin)\n",
        "map_berlin"
      ],
      "metadata": {
        "id": "uCRctVpMsV_T"
      },
      "execution_count": null,
      "outputs": []
    },
    {
      "cell_type": "code",
      "source": [
        "map_berlin.save(path+\"Berlin.html\")\n",
        "# .html kann runtergeladen werden und mit einem Browser geöffnet werden"
      ],
      "metadata": {
        "id": "MiwDJwtfz9ZO"
      },
      "execution_count": null,
      "outputs": []
    },
    {
      "cell_type": "code",
      "source": [],
      "metadata": {
        "id": "0vjJOqn-zy0m"
      },
      "execution_count": null,
      "outputs": []
    }
  ]
}