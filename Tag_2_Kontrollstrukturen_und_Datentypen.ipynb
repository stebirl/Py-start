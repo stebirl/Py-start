{
  "nbformat": 4,
  "nbformat_minor": 0,
  "metadata": {
    "colab": {
      "provenance": [],
      "toc_visible": true,
      "include_colab_link": true
    },
    "kernelspec": {
      "name": "python3",
      "display_name": "Python 3"
    },
    "language_info": {
      "name": "python"
    }
  },
  "cells": [
    {
      "cell_type": "markdown",
      "metadata": {
        "id": "view-in-github",
        "colab_type": "text"
      },
      "source": [
        "<a href=\"https://colab.research.google.com/github/stebirl/Py-start/blob/main/Tag_2_Kontrollstrukturen_und_Datentypen.ipynb\" target=\"_parent\"><img src=\"https://colab.research.google.com/assets/colab-badge.svg\" alt=\"Open In Colab\"/></a>"
      ]
    },
    {
      "cell_type": "markdown",
      "source": [
        "# 08-27-GS-2 - Einführung in die Datenverarbeitung und -visualisierung mit Python\n",
        "\n",
        "5-tägiger Blockkurs - Stella Birlo\n",
        "\n",
        "----"
      ],
      "metadata": {
        "id": "bCZnM1Iaqzkf"
      }
    },
    {
      "cell_type": "markdown",
      "source": [
        "# Tag 2 - Kontrollstrukutren, Datentypen und Standardpakete in Python\n"
      ],
      "metadata": {
        "id": "AVGq7m-N9j94"
      }
    },
    {
      "cell_type": "markdown",
      "source": [
        "## 2.1. Weitere Datentypen in Python"
      ],
      "metadata": {
        "id": "_aF5aT2BXBiU"
      }
    },
    {
      "cell_type": "code",
      "source": [
        "#Was kennen wir schon?\n",
        "\n",
        "#types / class\n",
        "a = 5       # Integer, int\n",
        "a2 = -5     # auch ein int\n",
        "b = 5.5     # Float-Objekt, float\n",
        "m = \"Hallo\" # String, str\n",
        "n = \"5\"     # auch ein String, str\n",
        "\n",
        "#objects\n",
        "x = []      # leere Liste\n",
        "y = [1,2,3] # gefüllte Liste"
      ],
      "metadata": {
        "id": "cKI6W4jbXIUV"
      },
      "execution_count": null,
      "outputs": []
    },
    {
      "cell_type": "markdown",
      "source": [
        "### Logik (True/False)\n",
        "\n",
        "Abgesehen von Zahlen und Wörter, arbeitet man bei Python auch mit Logik-Parametern, diese sind \"True\" oder \"False\". Es gibt auch auch \"None\".\n",
        "\n",
        "Diese können über logische Operatoren wie \"or\",\"and\",\"is\",\"in\" oder \"not\" oder durch Vergleichs-Operatoren wie \">,<,==,!=\" ausgegeben werden.\n",
        "\n",
        "Das ganze nennt man \"Boolische Operatoren\". Link: https://www.learnpython.org/en/Conditions\n"
      ],
      "metadata": {
        "id": "t2NEDkAuqGqa"
      }
    },
    {
      "cell_type": "code",
      "source": [
        "# logische Operatoren (is, or)\n",
        "x, y = True, False\n",
        "\n",
        "print(type(x))\n",
        "print(x is y)\n",
        "print(x is True)\n",
        "print(x or y is False)\n"
      ],
      "metadata": {
        "id": "bnGWGhLWp8Wr"
      },
      "execution_count": null,
      "outputs": []
    },
    {
      "cell_type": "code",
      "source": [
        "# and\n",
        "print(False and False)\n",
        "print(True and False)\n",
        "print(True and True)"
      ],
      "metadata": {
        "id": "lHhja_EG6aQR"
      },
      "execution_count": null,
      "outputs": []
    },
    {
      "cell_type": "code",
      "source": [
        "# Vergleichs-Operatoren (>,<,==,!=)\n",
        "x, y = 10, 5\n",
        "\n",
        "print(x < y) # ist kleiner\n",
        "print(x > y) # ist größer\n",
        "print(x == y) # ist gleich\n",
        "print(x != y) # ist ungleich"
      ],
      "metadata": {
        "id": "G0me6Yb7qQI4"
      },
      "execution_count": null,
      "outputs": []
    },
    {
      "cell_type": "code",
      "source": [
        "# Es gibt auch: >= und <=\n",
        "\n",
        "x,y = 10, 10\n",
        "\n",
        "print(x > y)\n",
        "print(x >= y)"
      ],
      "metadata": {
        "id": "5HAwtiRSqVaH"
      },
      "execution_count": null,
      "outputs": []
    },
    {
      "cell_type": "code",
      "source": [
        "# in\n",
        "3 in [1,2,3]"
      ],
      "metadata": {
        "id": "IFgOR-FS6AlE"
      },
      "execution_count": null,
      "outputs": []
    },
    {
      "cell_type": "code",
      "source": [
        "# if-tool (\"Wenn\")\n",
        "# Über \"if\"-Abfragen, kann man Logik-Abfragen in Python durchführen\n",
        "\n",
        "x = 1\n",
        "if x > 1:\n",
        "  print(\"x is 1.\") # Nach einer \"if\"-Zeile, muss die nächste Zeile eine Stelle eingerückt sein (mit der \"Tab\"-Taste)"
      ],
      "metadata": {
        "id": "vwW06ULTqW9B"
      },
      "execution_count": null,
      "outputs": []
    },
    {
      "cell_type": "code",
      "source": [
        "# Zu \"if\" kann man weitere Befehle schalten:\n",
        "# \"else\" (=\"andernfalls\")\n",
        "x = 2\n",
        "if x == 1:\n",
        "  print(\"x is equal to 1\")\n",
        "else:\n",
        "  print(\"x is not equal to 1\")"
      ],
      "metadata": {
        "id": "OhdN0i4NqY6z"
      },
      "execution_count": null,
      "outputs": []
    },
    {
      "cell_type": "code",
      "source": [
        "statement = False\n",
        "another_statement = True\n",
        "if statement is True:\n",
        "    print(\"Nice\")\n",
        "    pass\n",
        "elif another_statement is True: # else if, wenn erste if-Abfrage mit False beantwortet wird\n",
        "    print(\"OK\")\n",
        "    pass\n",
        "else:\n",
        "    print(\"Nope\")\n",
        "    pass"
      ],
      "metadata": {
        "id": "fFPy3zZuqdI6"
      },
      "execution_count": null,
      "outputs": []
    },
    {
      "cell_type": "code",
      "source": [
        "# Vorsicht:\n",
        "# \"is\" und \"==\" verhalten sich unter Umständen unterschiedlich\n",
        "x = [1,2,3]\n",
        "y = [1,2,3]\n",
        "print(x == y) # Prints out True\n",
        "print(x is y) # Prints out False"
      ],
      "metadata": {
        "id": "hsOS-VkKqfVz"
      },
      "execution_count": null,
      "outputs": []
    },
    {
      "cell_type": "code",
      "source": [
        "# Der \"not\"-Operator\n",
        "print(not False) # Prints out True\n",
        "print((not False) == (False)) # Prints out False"
      ],
      "metadata": {
        "id": "bbGpKX9mqghJ"
      },
      "execution_count": null,
      "outputs": []
    },
    {
      "cell_type": "code",
      "source": [
        "# Das ganze kann noch komplexer werden:\n",
        "\n",
        "name = \"John\" # ändere zu \"Rick\" oder anderen Namen\n",
        "age = 23\n",
        "\n",
        "if name == \"John\" and age == 23:\n",
        "  print(\"Your name is John, and you are also 23 years old.\")\n",
        "else:\n",
        "  print(\"nope\")\n",
        "\n",
        "if name == \"John\" or name == \"Rick\":\n",
        "    print(\"Your name is either John or Rick.\")\n",
        "\n",
        "if name in [\"John\", \"Rick\"]:\n",
        "    print(\"Your name is either John or Rick.\")"
      ],
      "metadata": {
        "id": "lTdRIWRIqimG"
      },
      "execution_count": null,
      "outputs": []
    },
    {
      "cell_type": "markdown",
      "source": [
        "#### Zusammenfassung\n",
        "- Logik von Python kennengelernt (True, False)\n",
        "- Boolische Operatoren kennengelernt (>,<,==,!=,is, or)\n",
        "- if-Abfragen helfen, um etwas zu überprüfen\n",
        "- if-Abfragen können mit \"else\" oder \"elif\" erweitert werden\n",
        "* Bei if-Abfragen wird die weite Zeile immer eine Stelle eingerückt, sonst folgt eine Fehlermeldung\n",
        "-Aufbauf von if-Statements:\n",
        "- if condition:\n",
        "  - do something\n",
        "- elif condition:\n",
        "  - do something else\n",
        "- else:\n",
        "  - do yet something else\n"
      ],
      "metadata": {
        "id": "eb884jL2qm6N"
      }
    },
    {
      "cell_type": "markdown",
      "source": [
        "#### Übung 2.1.1."
      ],
      "metadata": {
        "id": "nBtrtfKcqt8I"
      }
    },
    {
      "cell_type": "markdown",
      "source": [
        "1. Schreibe ein Code, in dem du dein Alter angibst und ausgibt, ob du volljährig bist oder nicht (18 Jahre oder älter)."
      ],
      "metadata": {
        "id": "_cNV0yKCrjOX"
      }
    },
    {
      "cell_type": "markdown",
      "source": [
        "2. Erstelle ein Code, der einer Zahl überprüft und dann ausgibt, ob die Zahl gerade, ungerade oder null ist.\n"
      ],
      "metadata": {
        "id": "_nxHLEcOrnaH"
      }
    },
    {
      "cell_type": "markdown",
      "source": [
        "3. Schreibe einen Python-Ausdruck, der überprüft, ob eine gegebene Zahl zwischen 10 und 20 liegt (einschließlich 10 und 20)."
      ],
      "metadata": {
        "id": "ovIsgFKsrlgF"
      }
    },
    {
      "cell_type": "markdown",
      "source": [
        "4. Ändere jede Variable im oberen Teil so, dass das Ergebnis \"True\" wäre. In dem Fall wird eine Zahl ausgegeben."
      ],
      "metadata": {
        "id": "vIOLEMWCrtFK"
      }
    },
    {
      "cell_type": "markdown",
      "source": [
        "### Tuples"
      ],
      "metadata": {
        "id": "i_oMCVp9skaY"
      }
    },
    {
      "cell_type": "code",
      "source": [
        "# Tuples, tuple\n",
        "# https://www.w3schools.com/python/python_tuples.asp\n",
        "# Ähnlich wie eine Liste, aber man kann hier unterschiedliche Dinge drin speichern\n",
        "# Unterschied zu Lsiten: Man kann Elemente nicht überschreiben\n",
        "\n",
        "thistuple = (\"apple\",\"banana\")\n",
        "print(type(thistuple))\n",
        "\n",
        "# NOT a tuple\n",
        "thistuple = (\"apple\")\n",
        "print(type(thistuple))\n",
        "\n",
        "tuple1 = (\"abc\", 34, True, 40, \"male\")\n",
        "print(tuple1)\n",
        "\n",
        "thistuple = tuple((\"apple\", \"banana\", \"cherry\")) # siehe hier die doppelten runden Klammern\n",
        "print(thistuple)\n",
        "\n",
        "print(thistuple[1])\n",
        "\n",
        "# geht nicht:\n",
        "thistuple[1] = \"ananas\""
      ],
      "metadata": {
        "id": "F_VcE5iqy_qQ"
      },
      "execution_count": null,
      "outputs": []
    },
    {
      "cell_type": "markdown",
      "source": [
        "### Dictioniaries"
      ],
      "metadata": {
        "id": "ye7ZrTY4tD5c"
      }
    },
    {
      "cell_type": "code",
      "source": [
        "# Dictionaries, dict\n",
        "# Dictionaries sind eine Sammlung von unterschiedlichen Objekten\n",
        "# Man kann quasi alles in ein Dictionary reinpacken\n",
        "# Dictionaries haben immer ein \"key\" (sowas wie der Name), und ein dazugehöriges \"value\" (der Inhalt)\n",
        "\n",
        "# So erstellt man eine dict, 3 unterschiedliche Wege:\n",
        "d = dict({})\n",
        "d = {}\n",
        "d = {\"key\":\"value\", \"monkey\": \"Affe\", \"horse\": \"Pferd\"}\n",
        "\n",
        "# So können wir die Inhalte abrufen\n",
        "print(d)\n",
        "print(d.keys())\n",
        "print(d.values())"
      ],
      "metadata": {
        "id": "8PqqH3axQVpn"
      },
      "execution_count": null,
      "outputs": []
    },
    {
      "cell_type": "code",
      "source": [
        "# so können wir ein neues Element hinzufügen:\n",
        "# Anstatt einer Index-Nummer agieren wir hier über den \"key\"-Namen in eckigen Klammern\n",
        "\n",
        "d[\"Number of animals\"] = 452\n",
        "print(d)\n",
        "\n",
        "# Man kann, wie gesagt, alles als \"value\" einfügen\n",
        "#d[\"List of animals\"] = [\"Kuh\",\"Huhn\",\"Katze\"]\n",
        "#d[\"Alles_Tiere\"] = True\n",
        "#print(d)\n",
        "\n",
        "# Man kann values auch überschreiben und ändern:\n",
        "#d[\"Alles_Tiere\"] = False\n",
        "#print(d)"
      ],
      "metadata": {
        "id": "aL1s3qEvanwz"
      },
      "execution_count": null,
      "outputs": []
    },
    {
      "cell_type": "markdown",
      "source": [
        "#### Zusammenfassung\n",
        "\n",
        "Zu unterscheidende eingebaute Sammlungen in Python:\n",
        "\n",
        "* Liste (list): Eine geordnete und veränderbare Sammlung. Erlaubt duplizierte Elemente.\n",
        "\n",
        "* Tuple (tuple): Eine geordnete und unveränderliche Sammlung. Erlaubt duplizierte Elemente.\n",
        "\n",
        "* Wörterbuch (dictionary, dict): Eine geordnete* und veränderbare Sammlung. Keine duplizierten Elemente.\n",
        "\n",
        "* Menge (Set): Eine ungeordnete, unveränderliche** und nicht indizierte Sammlung. Keine duplizierten Elemente. (Hier nicht behandelt)\n",
        "\n",
        "*Ab Python-Version 3.7 sind Dictionaries geordnet. In Python 3.6 und früher ungeordnet.\n",
        "\n",
        "**Set-Elemente sind unveränderlich, aber du kannst Elemente nach Belieben hinzufügen und/oder entfernen.\n",
        "\n",
        "Quelle: https://www.w3schools.com/python/python_tuples.asp\n",
        "\n",
        "Es gibt noch weitere eingebaute Datentypen (z.B: bytes), die wir in diesem Kurs nicht mehr behandeln werden. Mehr infos gibt es dazu hier: https://www.w3schools.com/python/python_datatypes.asp\n"
      ],
      "metadata": {
        "id": "40yyveRKz2oQ"
      }
    },
    {
      "cell_type": "markdown",
      "source": [
        "#### Übung 2.1.2.\n"
      ],
      "metadata": {
        "id": "7peiVjSmvInq"
      }
    },
    {
      "cell_type": "markdown",
      "source": [
        "1. Erstelle ein Python Dictionary namens student mit den Schlüsseln \"Name\", \"Alter\" und \"Note\". Weise den Schlüsseln entsprechende Werte zu und gib das gesamte Dictionary aus."
      ],
      "metadata": {
        "id": "O-UKJnDOr83d"
      }
    },
    {
      "cell_type": "markdown",
      "source": [
        "2. Füge dem Dictionary student einen neuen Schlüssel \"Fach\" hinzu und weise ihm den Wert \"Informatik\" zu. Gib das aktualisierte Dictionary aus.\n",
        "Lasse alle Schlüssel des Dictionaries ausgeben."
      ],
      "metadata": {
        "id": "k-xKwYVMsFy7"
      }
    },
    {
      "cell_type": "markdown",
      "source": [
        "### Numpy-Arrays\n",
        "\n",
        "(Nicht eingebauter Sammlungstyp in Python)"
      ],
      "metadata": {
        "id": "rC_pZp3GtbLt"
      }
    },
    {
      "cell_type": "markdown",
      "source": [
        "* Für den nächsten neune Datentypen machen wir was NEUES!!\n",
        "* Wir laden unser erstes Paket!!\n",
        "* Was sind Pakete?\n",
        "* Pakete sind eine Sammlung an Funktionen für eine bestimmte Richtung, die über die build-in funtionen hinaus gehen (bisher haben wir nur build-in functions verwendet)\n",
        "* Wir laden das Paket NumPy: https://numpy.org/devdocs/user/quickstart.html\n",
        "* NumPy ist das erste Standard-Paket, dass wir kennenlernen. Es enthält viele Mathematische Funktionen, mit denen wir Daten besser handhaben können\n",
        "* Hier gibt es ein \"cheatsheet\" dazu: https://s3.amazonaws.com/assets.datacamp.com/blog_assets/Numpy_Python_Cheat_Sheet.pdf"
      ],
      "metadata": {
        "id": "7DZCUfDrehdQ"
      }
    },
    {
      "cell_type": "code",
      "source": [
        "# Pakete müssen vor der Nutzung installiert werden\n",
        "# Das ist nur ein mal nötig, oder dann, wenn man eine neuere Version des Pakets verwenden möchte\n",
        "# dazu schreibst du folgende Zeile (nächste Zelle)\n"
      ],
      "metadata": {
        "id": "MXhLFJz_dr1e"
      },
      "execution_count": null,
      "outputs": []
    },
    {
      "cell_type": "code",
      "source": [
        "pip install numpy"
      ],
      "metadata": {
        "id": "VVGJMuq860KO"
      },
      "execution_count": null,
      "outputs": []
    },
    {
      "cell_type": "code",
      "source": [
        "#import numpy as np # um nicht jedes mal \"numpy\" schreiben zu müssen, kürzen wir das Paket mit \"np\" ab\n",
        "# Pakete müssen ein Mal im Skript geladen werden, danach nicht mehr\n",
        "\n",
        "x = [1,5,5,6,8,5]  # Liste\n",
        "y = np.array(x)    # NumPy-Array (Neuer Typ Daten!)\n",
        "\n",
        "print(x,y)              # y sieht anders aus als Liste\n",
        "print(type(x),type(y))  # Weil wir unterschiedliche Klassen haben\n",
        "\n",
        "print(y.dtype)    # dtype sagt mir, was ich für Datentypen innerhalb des arrays habe\n",
        "#print(x.dtype)   #Funktioniert nicht! Da es eine NumPy-Funktion ist, die nur mit np.arrays funktioniert (Fehlermeldung: \"list' object has no attribute 'dtype'\")\n",
        "#print(y.dtype()) # Funktioniert auch nicht (Klammern hier unnötig. Fehlermeldung \"object is not callable\")"
      ],
      "metadata": {
        "id": "Ur3D-Smobpcv"
      },
      "execution_count": null,
      "outputs": []
    },
    {
      "cell_type": "code",
      "source": [
        "# Das geht nicht, was sagt uns die Fehlermeldung?\n",
        "a = np.array(1, 2, 3, 4)\n",
        "print(a)\n",
        "\n",
        "# Eckige Klammern vergessen\n",
        "#a = np.arrayü([1, 2, 3, 4])\n",
        "#print(a)"
      ],
      "metadata": {
        "id": "SfFH1BV6gNAJ"
      },
      "execution_count": null,
      "outputs": []
    },
    {
      "cell_type": "code",
      "source": [
        "# Das geht auch, 2-D Array\n",
        "b = np.array([[1.5, 2, 3], [4, 5, 6]])\n",
        "b"
      ],
      "metadata": {
        "id": "4R4ESq-XgWoL"
      },
      "execution_count": null,
      "outputs": []
    },
    {
      "cell_type": "code",
      "source": [
        "# @title\n",
        "type(b[0])"
      ],
      "metadata": {
        "id": "n3wwZOJU8WxF"
      },
      "execution_count": null,
      "outputs": []
    },
    {
      "cell_type": "code",
      "source": [
        "c = np.array([[1, 2], [3, 4]], dtype=float)\n",
        "c"
      ],
      "metadata": {
        "id": "ww-6-v3Qgq3o"
      },
      "execution_count": null,
      "outputs": []
    },
    {
      "cell_type": "code",
      "source": [
        "# Was kann NumPy noch?\n",
        "# 1. Beispiel - Pi:\n",
        "# kennt ihr Pi auswendig? Müsst ihr nicht:\n",
        "print(np.pi)\n",
        "print(5 - np.pi)\n",
        "\n",
        "# das geht aber auch so\n",
        "#import numpy as np\n",
        "from numpy import pi\n",
        "print(pi)"
      ],
      "metadata": {
        "id": "PK31E9y8g1Fv"
      },
      "execution_count": null,
      "outputs": []
    },
    {
      "cell_type": "code",
      "source": [
        "# 2. Beispiel - Reihenfolgen\n",
        "x = [*range(10,100,5)] # erzeugt typ list\n",
        "y = np.arange(10, 100, 5) # erzeugt typ np.array\n",
        "print(x,y)\n",
        "# Vorteil:\n",
        "#x = [*range(10.2,30.5,5)] # geht nicht, range() erzeugt keine floats\n",
        "#y = np.arange(10.2, 30.5, .2) #np.arange() aber schon\n",
        "#print(y)"
      ],
      "metadata": {
        "id": "v_BstgO5hlBE"
      },
      "execution_count": null,
      "outputs": []
    },
    {
      "cell_type": "code",
      "source": [
        "# 3. Beispiel - Mehrdimensionale Arrays\n",
        "a = np.arange(6)                    #1d array\n",
        "print(a)\n",
        "print(\"\\n\")\n",
        "b = np.arange(12).reshape(4, 3)     # 2d array (Reihe, Spalte)\n",
        "print(b)\n",
        "print(\"\\n\")\n",
        "c = np.arange(24).reshape(2, 3, 4)  # 3d array\n",
        "print(c)"
      ],
      "metadata": {
        "id": "SIWWIXPxjoV9"
      },
      "execution_count": null,
      "outputs": []
    },
    {
      "cell_type": "code",
      "source": [
        "# 4. Beispiel: Rechnen mit Arrays\n",
        "# Unterschied zu Listen, wir können mit np.arrays rechnen!\n",
        "\n",
        "a = [20, 30, 40, 50] # Liste, kalkulieren funktioniert nicht\n",
        "b = [0,1,2,3]\n",
        "\n",
        "#a = np.array([20, 30, 40, 50]) # aber hiermit\n",
        "#b = np.arange(4)\n",
        "print(a, b)\n",
        "\n",
        "c = a - b\n",
        "print(c)\n",
        "#print(b**2)\n",
        "#print(10 * np.sin(a))\n",
        "#print(a < 35)\n",
        "#print(min(a))\n",
        "#print(max(a))\n",
        "#print(sum(a))\n",
        "#print(np.mean(a))"
      ],
      "metadata": {
        "id": "tEZ47RCFkOKR"
      },
      "execution_count": null,
      "outputs": []
    },
    {
      "cell_type": "code",
      "source": [
        "#5. Beispiel: Indexing und Slicing\n",
        "a = np.arange(10)**3\n",
        "print(a)\n",
        "#print(a[2])\n",
        "#print(a[2:5])\n",
        "#print(a[::-1])\n",
        "#a[1:6:2] = 1000\n",
        "#a"
      ],
      "metadata": {
        "id": "Vbqv1GMPlUKU"
      },
      "execution_count": null,
      "outputs": []
    },
    {
      "cell_type": "code",
      "source": [
        "b = a.reshape(2,5)\n",
        "print(b)                          # indexing geht auch in der Matrix\n",
        "#print(b[0,-1])                     # [zweite Zeile, dritte Spalte]\n",
        "#print(b[1,:])                     # gesamte (:) zweite Spalte (1)\n",
        "#print(b[:,1])                     # die jeweils ersten Zeilen (0) aus allen Spalten (:)\n",
        "\n",
        "#summe_zeile = np.sum(b, axis=1)   # axis=1 bezieht sich immer auf Zeilen\n",
        "#summe_spalten = np.sum(b, axis=0) # axis=0 bezieht sich immer auf Spalten\n",
        "#print(summe_zeile, summe_spalten)"
      ],
      "metadata": {
        "id": "vvVqz-uorIll"
      },
      "execution_count": null,
      "outputs": []
    },
    {
      "cell_type": "markdown",
      "source": [
        "#### Zusammenfassung\n",
        "* Das erste Paket kennengelernt\n",
        "* NumPy ist ein Paket mit Funktionen für mathematische Probleme, sowie np.arrays\n",
        "* Mit np.arrays können wir mehr als mit Listen (z.B. damit rechen oder indexen)\n"
      ],
      "metadata": {
        "id": "474T3J0Um74D"
      }
    },
    {
      "cell_type": "markdown",
      "source": [
        "#### Übung 2.1.3.\n"
      ],
      "metadata": {
        "id": "Qq1DYCRXngRY"
      }
    },
    {
      "cell_type": "markdown",
      "source": [
        "1. Importiere das NumPy-Paket und erstelle ein NumPy-Array arr mit den Werten 1, 2, 3, 4, 5. Gib das Array aus.\n",
        "Berechne den Durchschnitt der Werte im NumPy-Array arr und gib das Ergebnis aus.\n",
        "Multipliziere jedes Element im NumPy-Array arr mit 2 und gib das aktualisierte Array aus."
      ],
      "metadata": {
        "id": "0OkgXuh2saYw"
      }
    },
    {
      "cell_type": "markdown",
      "source": [
        "2. Erstelle ein NumPy-Array matrix mit den Werten 1 bis 12 in Form einer 3x4-Matrix. Gib die gesamte Matrix aus."
      ],
      "metadata": {
        "id": "blfGqDW1saVU"
      }
    },
    {
      "cell_type": "markdown",
      "source": [
        "3. Greife auf das Element in der zweiten Zeile und dritten Spalte der Matrix matrix zu und gib den Wert aus.\n",
        "Berechne die Summe der Werte in jeder Zeile der Matrix und gib das resultierende NumPy-Array aus."
      ],
      "metadata": {
        "id": "pidq9h2jsaMQ"
      }
    },
    {
      "cell_type": "markdown",
      "source": [
        "## 2.2. Loops (Schleifen)\n",
        "\n",
        "Wiederholung von Anweisungen: In Python ermöglichen Loops, wie z. B. die for-Schleife oder die while-Schleife, das mehrfache Ausführen von Anweisungen. Dadurch können bestimmte Codeblöcke wiederholt und effizient auf verschiedene Daten angewendet werden.\n",
        "\n",
        "Durchlaufen von Sequenzen: Mit Loops können Entwickler über Sequenzen wie Listen, Tupel oder Zeichenketten iterieren. Dies erleichtert den Zugriff auf einzelne Elemente und die Bearbeitung der Daten in der Sequenz.\n",
        "\n",
        "Automatisierung von Aufgaben: Loops sind entscheidend, um repetitive Aufgaben zu automatisieren. Sie erlauben das systematische Durchlaufen von Daten oder das wiederholte Ausführen von Code, was die Effizienz des Programms verbessert und den Code kompakter macht.\n",
        "\n",
        "Mehr zum Thema https://docs.python.org/3/tutorial/controlflow.html"
      ],
      "metadata": {
        "id": "x_7vlFAr6yGD"
      }
    },
    {
      "cell_type": "code",
      "source": [
        "word = \"hello\"\n",
        "\n",
        "print(word[0])\n",
        "print(word[1])\n",
        "print(word[2])\n",
        "print(word[3])\n",
        "print(word[4])"
      ],
      "metadata": {
        "id": "MEXITCyk-205"
      },
      "execution_count": null,
      "outputs": []
    },
    {
      "cell_type": "code",
      "source": [
        "for l in 'hello':\n",
        "  print(l)"
      ],
      "metadata": {
        "id": "V4khdC_07p4G"
      },
      "execution_count": null,
      "outputs": []
    },
    {
      "cell_type": "code",
      "source": [
        "# For-loops\n",
        "\n",
        "liste = [2,12,25]\n",
        "for x in liste:\n",
        "  print(x)"
      ],
      "metadata": {
        "id": "ciXSVto57f33"
      },
      "execution_count": null,
      "outputs": []
    },
    {
      "cell_type": "code",
      "source": [
        "mylist = [1, 'asdf', 2., False, [1,2,3]]\n",
        "for i in mylist:\n",
        "    print(i)\n",
        "    print(type(i))\n",
        "    print(\"next:\")"
      ],
      "metadata": {
        "id": "oiSrxXPO_a1C"
      },
      "execution_count": null,
      "outputs": []
    },
    {
      "cell_type": "code",
      "source": [
        "i #speichert immer das letzte Element im Loop (wenn kein Error aufkommt)"
      ],
      "metadata": {
        "id": "1B-8fwBWbc3q"
      },
      "execution_count": null,
      "outputs": []
    },
    {
      "cell_type": "code",
      "source": [
        "# range()\n",
        "for i in range(5,15):\n",
        "  print(i)"
      ],
      "metadata": {
        "id": "Ib7WrMWHDF6g"
      },
      "execution_count": null,
      "outputs": []
    },
    {
      "cell_type": "code",
      "source": [
        "for i in range(2, 20, 2): # der dritte Eintrag = \"step size\"\n",
        "  print(i)"
      ],
      "metadata": {
        "id": "Dq80VAMW700x"
      },
      "execution_count": null,
      "outputs": []
    },
    {
      "cell_type": "code",
      "source": [
        "for i in range(10):\n",
        "  print('The square of',i,'is',i**2)"
      ],
      "metadata": {
        "id": "fwoJjtb8WjOe"
      },
      "execution_count": null,
      "outputs": []
    },
    {
      "cell_type": "code",
      "source": [
        "# For-Loops\n",
        "# \"Für jedes Element in einem Objekt: Mach ... damit\"\n",
        "words = ['cat', 'window', 'defenestrate']\n",
        "\n",
        "for w in words:\n",
        "  print(w, len(w))"
      ],
      "metadata": {
        "id": "x05KGAVABZ0w"
      },
      "execution_count": null,
      "outputs": []
    },
    {
      "cell_type": "code",
      "source": [
        "a = ['Mary', 'had', 'a', 'little', 'lamb']\n",
        "\n",
        "for i in range(len(a)):\n",
        "  #print(len(a))\n",
        "  print(i, a[i], len(a[i]))"
      ],
      "metadata": {
        "id": "O7D8RpzGDaQd"
      },
      "execution_count": null,
      "outputs": []
    },
    {
      "cell_type": "code",
      "source": [
        "# enumerate()\n",
        "# generiert 2 Objekte: 1. Nummerierung, 2. Objekte der Liste\n",
        "a_list = [\"Hola\",True,333,\"Hallo\"]\n",
        "\n",
        "for i,x in enumerate(a_list):\n",
        "  print(i, x)"
      ],
      "metadata": {
        "id": "D2IgSyjDCIzZ"
      },
      "execution_count": null,
      "outputs": []
    },
    {
      "cell_type": "code",
      "source": [
        "# enumerate()\n",
        "# Mit der Nummerierung kann gearbeitet werden:\n",
        "a_list = [\"Hola\", True, 333, \"Hallo\"]\n",
        "\n",
        "for i,x in enumerate(a_list):\n",
        "  if i <= 1:\n",
        "    print(i, x, \"Aha\")\n",
        "  else:\n",
        "    print(i, x, \"OK\")"
      ],
      "metadata": {
        "id": "FlcIK0MpCmQB"
      },
      "execution_count": null,
      "outputs": []
    },
    {
      "cell_type": "code",
      "source": [
        "d = {'a':['apple', 'grape'], 'b':[2,4,23,4], 'c':[3,4,4]}\n",
        "for rafael in d:\n",
        "  print(rafael)\n",
        "  if len(d[rafael]) == 3:\n",
        "    print(d[rafael])\n"
      ],
      "metadata": {
        "id": "llSwXFlc8JTZ"
      },
      "execution_count": null,
      "outputs": []
    },
    {
      "cell_type": "code",
      "source": [
        "d[\"b\"]"
      ],
      "metadata": {
        "id": "0fcqrmZYec78"
      },
      "execution_count": null,
      "outputs": []
    },
    {
      "cell_type": "code",
      "source": [
        "for key in d:\n",
        "  print(key, d[key])"
      ],
      "metadata": {
        "id": "HN7h38M89Bk7"
      },
      "execution_count": null,
      "outputs": []
    },
    {
      "cell_type": "code",
      "source": [
        "# While-Loops\n",
        "\n",
        "count = 0\n",
        "while count < 5:\n",
        "    print(count)\n",
        "    count += 1  # This is the same as count = count + 1"
      ],
      "metadata": {
        "id": "AedLTMe5GIbS"
      },
      "execution_count": null,
      "outputs": []
    },
    {
      "cell_type": "code",
      "source": [
        "# break\n",
        "# break is used to exit a for loop or a while loop\n",
        "count = 0\n",
        "while True:\n",
        "    print(count)\n",
        "    count += 1\n",
        "    if count >= 5:\n",
        "        break"
      ],
      "metadata": {
        "id": "aZZwgnxNLwKQ"
      },
      "execution_count": null,
      "outputs": []
    },
    {
      "cell_type": "code",
      "source": [
        "# continue = skip\n",
        "for i in range(10):\n",
        "  if i == 2 or i == 8:\n",
        "    continue\n",
        "  print(i)"
      ],
      "metadata": {
        "id": "JR9yC4e799i0"
      },
      "execution_count": null,
      "outputs": []
    },
    {
      "cell_type": "code",
      "source": [
        "# continue\n",
        "for x in range(10):\n",
        "    # Check if x is even\n",
        "    if x % 2 == 0:\n",
        "        continue\n",
        "    print(x)"
      ],
      "metadata": {
        "id": "_uOzisRhL0zj"
      },
      "execution_count": null,
      "outputs": []
    },
    {
      "cell_type": "code",
      "source": [
        "for num in range(2, 10):\n",
        "    if num % 2 == 0:\n",
        "        print(\"Found an even number\", num)\n",
        "        continue\n",
        "    print(\"Found an odd number\", num)"
      ],
      "metadata": {
        "id": "0vwDm-bLFmxV"
      },
      "execution_count": null,
      "outputs": []
    },
    {
      "cell_type": "code",
      "source": [
        "count=0\n",
        "while(count<5):\n",
        "    print(count)\n",
        "    count +=1\n",
        "else:\n",
        "    print(\"count value reached %d\" %(count))"
      ],
      "metadata": {
        "id": "kCrlcevuMUjV"
      },
      "execution_count": null,
      "outputs": []
    },
    {
      "cell_type": "code",
      "source": [
        "# Infinite loops - Unendliche loops\n",
        "# !VORSICHT! Kann mal passieren..\n",
        "# https://www.educba.com/python-infinite-loop/\n",
        "\n",
        "i = 0\n",
        "while i <= 10:\n",
        "  print(i, \"I will run forever!\")\n",
        "\n",
        "# Stoppen mit: Rechtsklick auf die Zelle > \"Ausführung unterbrechen\"\n",
        "# Oder JupyterLab: Rechtsklick > Interupt Kernel (Skript wird neu gestartet, Pakete und Variablen müssen neu geladen werden)"
      ],
      "metadata": {
        "id": "V6-3Rd97H-EB",
        "collapsed": true
      },
      "execution_count": null,
      "outputs": []
    },
    {
      "cell_type": "code",
      "source": [
        "# inifinite loops korrigieren\n",
        "i = 0\n",
        "while i <= 10:\n",
        "  print(i, \"I will run forever!\")\n",
        "  i += 1"
      ],
      "metadata": {
        "id": "1cEJETMtIj6E"
      },
      "execution_count": null,
      "outputs": []
    },
    {
      "cell_type": "markdown",
      "source": [
        "### Zusammenfassung\n",
        "* Loops sind eine praktische Funktion in Python\n",
        "* Dadurch können z.b. größere Listen durchgekämmt werden und nach bestimmten Bedinungen untersucht werden\n",
        "* Loops können mit \"for\" oder \"while\" starten"
      ],
      "metadata": {
        "id": "rOc8KLt3yp-F"
      }
    },
    {
      "cell_type": "markdown",
      "source": [
        "https://www.learnpython.org/en/Loops\n",
        "\n",
        "https://docs.python.org/3/tutorial/controlflow.html"
      ],
      "metadata": {
        "id": "-IoQjOazGQlB"
      }
    },
    {
      "cell_type": "markdown",
      "source": [
        "### Übung 2.2."
      ],
      "metadata": {
        "id": "3tY9tWQ6zE2J"
      }
    },
    {
      "cell_type": "markdown",
      "source": [
        "1. Durchlaufe mit einer Schleife die Liste (unten) und drucke alle geraden Zahlen in der gleichen Reihenfolge. Drucke keine Zahlen aus, die grösser als 237 sind."
      ],
      "metadata": {
        "id": "2j-FBXGIubC7"
      }
    },
    {
      "cell_type": "markdown",
      "source": [
        "2. Erstelle weitere Schleifen. Probiere for, while, break und continue zu verwenden."
      ],
      "metadata": {
        "id": "PDXrnQ1lKSwS"
      }
    },
    {
      "cell_type": "markdown",
      "source": [
        "## Zusatz: 2.3. Funktionen schreiben"
      ],
      "metadata": {
        "id": "AIVqepQFtI9K"
      }
    },
    {
      "cell_type": "markdown",
      "source": [
        "Was steckt eigentlich hinter Funktionen?\n",
        "Mehr code!\n",
        "https://www.learnpython.org/en/Functions"
      ],
      "metadata": {
        "id": "m5Fdlxs35io9"
      }
    },
    {
      "cell_type": "code",
      "source": [
        "def my_function():\n",
        "    print(\"Hello From My Function!\")\n",
        "my_function()"
      ],
      "metadata": {
        "id": "yyr6VMo4fW8M"
      },
      "execution_count": null,
      "outputs": []
    },
    {
      "cell_type": "code",
      "source": [
        "my_function()"
      ],
      "metadata": {
        "id": "40idVQpYrdkW"
      },
      "execution_count": null,
      "outputs": []
    },
    {
      "cell_type": "code",
      "source": [
        "# Funktionen selber schreiben\n",
        "def Summe_Funktion(a, b):        # Funktion mit variablen definieren\n",
        "    return a+b                   # Ausgabe definieren\n",
        "\n",
        "result = Summe_Funktion(1,2)     # Funktion benutzen\n",
        "result"
      ],
      "metadata": {
        "id": "3mBbVCiNWlbZ"
      },
      "execution_count": null,
      "outputs": []
    },
    {
      "cell_type": "code",
      "source": [
        "# Funktionen sind auch Objekte\n",
        "Objekt = Summe_Funktion\n",
        "result - Objekt(2,3)\n",
        "Objekt(2,3)"
      ],
      "metadata": {
        "id": "VI3Q_w29vhsL"
      },
      "execution_count": null,
      "outputs": []
    },
    {
      "cell_type": "code",
      "source": [
        "# Define our 3 functions\n",
        "def my_function():\n",
        "    print(\"Hello From My Function!\")\n",
        "\n",
        "def my_function_with_args(username, greeting):\n",
        "    print(\"Hello, %s, From My Function!, I wish you %s\"%(username, greeting))\n",
        "\n",
        "def sum_two_numbers(a, b):\n",
        "    return a + b\n",
        "\n",
        "# print(a simple greeting)\n",
        "my_function()\n",
        "\n",
        "#prints - \"Hello, John Doe, From My Function!, I wish you a great year!\"\n",
        "my_function_with_args(\"John Doe\", \"a great year!\")\n",
        "\n",
        "# after this line x will hold the value 3!\n",
        "x = sum_two_numbers(1,2)\n",
        "print(x)"
      ],
      "metadata": {
        "id": "Mqv0Ak6KfBum"
      },
      "execution_count": null,
      "outputs": []
    },
    {
      "cell_type": "code",
      "source": [],
      "metadata": {
        "id": "L6wtKzzKuHXg"
      },
      "execution_count": null,
      "outputs": []
    },
    {
      "cell_type": "markdown",
      "source": [
        "# Modules\n",
        "\n",
        "Eigene Funktionen abspeichern und verwenden\n",
        "\n",
        "Lade Datein \"MyModule.py\" herunter (Kann z.B. auch über Editor geöffnet werden)\n",
        "\n",
        "Im Folgendem wird erklärt, wie man die Funktionen über Colab aufrufen kann. Wenn man Lokal arbeitet, werden Module anders aufgerufen\n",
        "(mehr Infos e.g. hier: https://docs.python.org/3/tutorial/modules.html)"
      ],
      "metadata": {
        "id": "cQXEzqLWuIMn"
      }
    },
    {
      "cell_type": "code",
      "source": [
        "# Wenn du über Google Drive & Google Colab arbeitest\n",
        "# Erstelle einen \"Modules\"-Ordner in deinem Drive\n",
        "# Lade die neue \"MyModule.py\" Datei dort hoch\n",
        "# Gefunden auf: https://stackoverflow.com/questions/52733786/how-to-import-custom-modules-in-google-colab\n",
        "\n",
        "# Mount your google drive in google colab\n",
        "# Fenster öffnen sich, alles bestätigen\n",
        "from google.colab import drive\n",
        "drive.mount('/content/drive')\n",
        "\n",
        "# Check your Colab temporary path\n",
        "# Dahin soll gleich das Modul\n",
        "!pwd # Returns /content\n",
        "\n",
        "# Copy custom module from Google Drive to Colab temporary drive\n",
        "# !cp [path of your custom module] [path where you like to copy]\n",
        "# Hier sind zwei Pfade! Ändere den ersten Pfad auf deine Ordnerstruktur\n",
        "# Nutze dafür die Linke Ordner-Hilfeleiste und gehe auf \"Pfad kopieren\"\n",
        "# Vorsicht Falle: Wenn wir eine Lücke im Ordnernamen haben, müssen wir mit \"\\ \" (mit einem Space) ersetzen\n",
        "! cp /content/drive/MyDrive/Colab\\ Notebooks/Python_Kurs/Modules/MyModule.py /content/MyModule.py\n",
        "#!ls  # checken, ob es drin ist, hier sollte sowas stehen wie \" drive MyModule.py sample_data\""
      ],
      "metadata": {
        "id": "l82Y5JOAqxjm"
      },
      "execution_count": null,
      "outputs": []
    },
    {
      "cell_type": "code",
      "source": [
        "import MyModule\n",
        "\n",
        "print(MyModule.my_function())\n",
        "print(MyModule.my_second_function(\"Stella\",\"the best\"))"
      ],
      "metadata": {
        "id": "MNfGEsyKq6wv"
      },
      "execution_count": null,
      "outputs": []
    },
    {
      "cell_type": "markdown",
      "source": [
        "#### Zusammenfassung\n",
        "\n",
        "* Funktionen können wir selbst schreiben\n",
        "* sie werden mit \"def\" eingeleitet und geben ein \"return\" aus\n",
        "* Bei Bedarf können wir diese FUnktionen auch abspeicherun und wie ein Paket in anderen Python Skripen laden\n",
        "\n",
        "Mehr zum Thema Modules:\n",
        "https://docs.python.org/3/tutorial/modules.html"
      ],
      "metadata": {
        "id": "gdQ0XrUI9jMh"
      }
    },
    {
      "cell_type": "markdown",
      "source": [
        "#### Übung 2.3."
      ],
      "metadata": {
        "id": "tczFVG76V-ao"
      }
    },
    {
      "cell_type": "markdown",
      "source": [
        "1. Funktion für die Quadratzahl: Schreibe eine Funktion quadrat(x), die die Quadratzahl einer gegebenen Zahl x zurückgibt."
      ],
      "metadata": {
        "id": "nPdD__3OtXDG"
      }
    },
    {
      "cell_type": "markdown",
      "source": [
        "2. Funktion für den Mittelwert: Schreibe eine Funktion mittelwert(a, b, c), die den Mittelwert von drei Zahlen a, b und c berechnet und zurückgibt."
      ],
      "metadata": {
        "id": "QS5OL00VtW-4"
      }
    },
    {
      "cell_type": "markdown",
      "source": [
        "3. Schreibe eine Funktion notenbewertung(punkte), die eine Punktzahl entgegennimmt und die entsprechende Notenbewertung zurückgibt:\n",
        "\n",
        "    * ab 90 Punkten: \"Sehr gut\",\n",
        "    * ab 80 Punkten: \"Gut\",\n",
        "    * ab 70 Punkten: \"Befriedigend\",\n",
        "    * ab 60 Punkten: \"Ausreichend\",\n",
        "    * darunter: \"Ungenügend\"."
      ],
      "metadata": {
        "id": "o0PJzZlVtc-m"
      }
    },
    {
      "cell_type": "markdown",
      "source": [
        "## Zusatz: 2.4 Fancier Strings\n",
        "\n",
        "Online in Beispiel-Codes werden Strings oft anders ausgegeben, als wir das bisher gelernt haben.\n",
        "\n",
        "https://docs.python.org/3/tutorial/inputoutput.html\n"
      ],
      "metadata": {
        "id": "ODQ6Urv_M8v8"
      }
    },
    {
      "cell_type": "code",
      "source": [
        "# Kennen wir\n",
        "s = 'Hello, world.'\n",
        "print(s)"
      ],
      "metadata": {
        "id": "AThkaYi1PIM6"
      },
      "execution_count": null,
      "outputs": []
    },
    {
      "cell_type": "code",
      "source": [
        "# str() oder repr()\n",
        "\n",
        "repr(1/2)    # quick string output\n",
        "str(1/2)    # same"
      ],
      "metadata": {
        "id": "j_yO8xy1ztwq"
      },
      "execution_count": null,
      "outputs": []
    },
    {
      "cell_type": "code",
      "source": [
        "# Manual way\n",
        "x = 10 * 3.25\n",
        "y = 200 * 200\n",
        "s = 'The value of x is ' + repr(x) + ', and y is ' + str(y) + '...'\n",
        "print(s)"
      ],
      "metadata": {
        "id": "F5FnUFWEPCaD"
      },
      "execution_count": null,
      "outputs": []
    },
    {
      "cell_type": "code",
      "source": [
        "#f'' or F''\n",
        "year = 2016\n",
        "event = 'Referendum'\n",
        "f'Results of the {year} {event}'"
      ],
      "metadata": {
        "id": "vI8J1B1qNBNQ"
      },
      "execution_count": null,
      "outputs": []
    },
    {
      "cell_type": "code",
      "source": [
        "#str.format()\n",
        "yes_votes = 42572654\n",
        "no_votes = 43132495\n",
        "percentage = yes_votes / (yes_votes + no_votes)\n",
        "'{:} YES votes: {:2.2%}'.format(yes_votes, percentage)"
      ],
      "metadata": {
        "id": "GJgoTGKdNEDV"
      },
      "execution_count": null,
      "outputs": []
    },
    {
      "cell_type": "code",
      "source": [
        "print('We are the {} who say \"{}!\"'.format('knights', 'Ni'))"
      ],
      "metadata": {
        "id": "RSqFfvsuRc0K"
      },
      "execution_count": null,
      "outputs": []
    },
    {
      "cell_type": "code",
      "source": [
        "print('{0} and {1}'.format('spam', 'eggs'))\n",
        "\n",
        "print('{1} and {0}'.format('spam', 'eggs'))"
      ],
      "metadata": {
        "id": "Z1PmWM7KRlEC"
      },
      "execution_count": null,
      "outputs": []
    },
    {
      "cell_type": "code",
      "source": [
        "print('This {food} is {adjective}.'.format(\n",
        "      food='spam', adjective='absolutely horrible'))"
      ],
      "metadata": {
        "id": "X880-pNgRpma"
      },
      "execution_count": null,
      "outputs": []
    },
    {
      "cell_type": "code",
      "source": [
        "table = {'Sjoerd': 4127, 'Jack': 4098, 'Dcab': 8637678}\n",
        "print('Jack: {0[Jack]:d}; Sjoerd: {0[Sjoerd]:d}; '\n",
        "      'Dcab: {0[Dcab]:d}'.format(table))"
      ],
      "metadata": {
        "id": "wNQbaDKWRzEh"
      },
      "execution_count": null,
      "outputs": []
    },
    {
      "cell_type": "code",
      "source": [
        "for x in range(1, 11):\n",
        "    print('{0:2d} {1:3d} {2:4d}'.format(x, x*x, x*x*x))"
      ],
      "metadata": {
        "id": "u3pJrS-lSCpH"
      },
      "execution_count": null,
      "outputs": []
    },
    {
      "cell_type": "code",
      "source": [
        "# The repr() of a string adds string quotes and backslashes:\n",
        "hello = 'hello, world\\n'\n",
        "hellos = repr(hello)  # gibt auch backslashes raus\n",
        "print(hellos)\n"
      ],
      "metadata": {
        "id": "BTBwPuExOhoM"
      },
      "execution_count": null,
      "outputs": []
    },
    {
      "cell_type": "code",
      "source": [
        "# The argument to repr() may be any Python object:\n",
        "x = 10 * 3.25\n",
        "y = 200 * 200\n",
        "repr((x, y, ('spam', 'eggs')))"
      ],
      "metadata": {
        "id": "3VoP-Cu-OaR8"
      },
      "execution_count": null,
      "outputs": []
    },
    {
      "cell_type": "code",
      "source": [
        "# Zahlen abkürzen\n",
        "import math\n",
        "x = 3.14247564374\n",
        "print(f'The value of pi is approximately {x}.')\n",
        "print(f'The value of pi is approximately {x:.4f}.')\n",
        "print(f'The value of pi is approximately {math.pi:.3f}.')"
      ],
      "metadata": {
        "id": "QSyTlHZxPvZz"
      },
      "execution_count": null,
      "outputs": []
    },
    {
      "cell_type": "code",
      "source": [
        "# # :10d -> Feld mit 10 characters weite\n",
        "# Columns\n",
        "table = {'Sjoerd': 4122, 'Jack': 4098, 'Dcab': 7678}\n",
        "\n",
        "for name, phone in table.items():\n",
        "    print(f'{name} ==> {phone}')\n",
        "\n",
        "for name, phone in table.items():\n",
        "    print(f'{name:10} ==> {phone:10d}')"
      ],
      "metadata": {
        "id": "T5wKQQDDQOtT"
      },
      "execution_count": null,
      "outputs": []
    },
    {
      "cell_type": "code",
      "source": [
        "# =\n",
        "bugs = 'roaches'\n",
        "count = 13\n",
        "area = 'living room'\n",
        "print(f'Debugging {bugs} {count} {area}')\n",
        "print(f'Debugging {bugs=} {count=} {area=}')"
      ],
      "metadata": {
        "id": "cGACOgmTRFnJ"
      },
      "execution_count": null,
      "outputs": []
    },
    {
      "cell_type": "markdown",
      "source": [
        "### Übung 2.4."
      ],
      "metadata": {
        "id": "hwEWiLoWVOTB"
      }
    },
    {
      "cell_type": "markdown",
      "source": [
        "1. Verwende F-Strings, um die Variablen name und alter in den folgenden Satz einzusetzen: \"Mein Name ist [Name] und ich bin [Alter] Jahre alt.\""
      ],
      "metadata": {
        "id": "5uZ8ej76vJsV"
      }
    },
    {
      "cell_type": "markdown",
      "source": [
        "2. Verwende die format()-Methode, um die Variablen stadt und land in den folgenden Satz einzusetzen: \"Ich komme aus [Stadt], [Land].\""
      ],
      "metadata": {
        "id": "U6ZaBsIgvLaP"
      }
    },
    {
      "cell_type": "markdown",
      "source": [
        "3. Verwende ein F-String, um das Ergebnis der Division von zahl1 durch zahl2 mit zwei Dezimalstellen in den Satz einzusetzen: \"Das Ergebnis ist [Ergebnis].\"\n"
      ],
      "metadata": {
        "id": "7S9yloKBvPpZ"
      }
    },
    {
      "cell_type": "code",
      "source": [],
      "metadata": {
        "id": "98dpV5u265nF"
      },
      "execution_count": null,
      "outputs": []
    }
  ]
}